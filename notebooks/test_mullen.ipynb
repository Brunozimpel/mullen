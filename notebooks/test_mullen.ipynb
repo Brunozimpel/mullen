{
 "cells": [
  {
   "cell_type": "code",
   "execution_count": 1,
   "metadata": {},
   "outputs": [
    {
     "name": "stderr",
     "output_type": "stream",
     "text": [
      "Using TensorFlow backend.\n"
     ]
    }
   ],
   "source": [
    "import numpy as np\n",
    "from mullen.classifier import Mullen\n",
    "import os"
   ]
  },
  {
   "cell_type": "code",
   "execution_count": 2,
   "metadata": {},
   "outputs": [],
   "source": [
    "mullen = Mullen((187,250,3))"
   ]
  },
  {
   "cell_type": "code",
   "execution_count": 3,
   "metadata": {},
   "outputs": [
    {
     "name": "stdout",
     "output_type": "stream",
     "text": [
      "Loading data from ../data/\n",
      "117 videos from ../data/skate/\n",
      "125 videos from ../data/noskate/\n",
      "Shape X = (242, 40, 4872)\n",
      "Shape Y = (242, 1)\n",
      "Saving to cache/X_Y_classes.pkl\n",
      "Creating lstm with shape = (40, 4872) and 2 classes\n",
      "Train on 193 samples, validate on 49 samples\n",
      "Epoch 1/10\n",
      "193/193 [==============================] - 4s 22ms/step - loss: 0.6830 - acc: 0.5544 - val_loss: 0.8930 - val_acc: 0.0000e+00\n",
      "Epoch 2/10\n",
      "193/193 [==============================] - 2s 12ms/step - loss: 0.6522 - acc: 0.6062 - val_loss: 0.8941 - val_acc: 0.0000e+00\n",
      "Epoch 3/10\n",
      "193/193 [==============================] - 2s 12ms/step - loss: 0.6114 - acc: 0.6632 - val_loss: 0.8249 - val_acc: 0.4490\n",
      "Epoch 4/10\n",
      "193/193 [==============================] - 2s 12ms/step - loss: 0.5815 - acc: 0.7098 - val_loss: 1.0775 - val_acc: 0.1020\n",
      "Epoch 5/10\n",
      "193/193 [==============================] - 2s 12ms/step - loss: 0.5353 - acc: 0.7254 - val_loss: 0.9243 - val_acc: 0.6122\n",
      "Epoch 6/10\n",
      "193/193 [==============================] - 2s 12ms/step - loss: 0.4262 - acc: 0.8187 - val_loss: 0.2940 - val_acc: 0.9592\n",
      "Epoch 7/10\n",
      "193/193 [==============================] - 2s 12ms/step - loss: 0.4454 - acc: 0.7824 - val_loss: 0.5329 - val_acc: 0.8163\n",
      "Epoch 8/10\n",
      "193/193 [==============================] - 2s 11ms/step - loss: 0.4098 - acc: 0.8342 - val_loss: 0.2182 - val_acc: 0.9592\n",
      "Epoch 9/10\n",
      "193/193 [==============================] - 2s 12ms/step - loss: 0.4936 - acc: 0.8031 - val_loss: 1.6339 - val_acc: 0.4082\n",
      "Epoch 10/10\n",
      "193/193 [==============================] - 2s 12ms/step - loss: 0.4741 - acc: 0.8031 - val_loss: 0.5395 - val_acc: 0.7755\n",
      "CPU times: user 13min 6s, sys: 2min 57s, total: 16min 4s\n",
      "Wall time: 5min 1s\n"
     ]
    }
   ],
   "source": [
    "%time mullen.session('../data/', validation_split=.2, epochs=10, batch_size=40)"
   ]
  },
  {
   "cell_type": "code",
   "execution_count": 4,
   "metadata": {},
   "outputs": [
    {
     "data": {
      "text/plain": [
       "'skate'"
      ]
     },
     "execution_count": 4,
     "metadata": {},
     "output_type": "execute_result"
    }
   ],
   "source": [
    "mullen.guess_trick('../data/skate/skate90.mp4')"
   ]
  },
  {
   "cell_type": "markdown",
   "metadata": {},
   "source": [
    "### Test no skate"
   ]
  },
  {
   "cell_type": "code",
   "execution_count": 5,
   "metadata": {},
   "outputs": [
    {
     "data": {
      "text/plain": [
       "['skate', 'noskate', 'skate']"
      ]
     },
     "execution_count": 5,
     "metadata": {},
     "output_type": "execute_result"
    }
   ],
   "source": [
    "path = '../test/noskate/'\n",
    "[mullen.guess_trick(path+f) for f in os.listdir(path)]"
   ]
  },
  {
   "cell_type": "markdown",
   "metadata": {},
   "source": [
    "### Test Skate"
   ]
  },
  {
   "cell_type": "code",
   "execution_count": 6,
   "metadata": {
    "scrolled": true
   },
   "outputs": [
    {
     "data": {
      "text/plain": [
       "['skate', 'skate', 'skate']"
      ]
     },
     "execution_count": 6,
     "metadata": {},
     "output_type": "execute_result"
    }
   ],
   "source": [
    "path = '../test/skate/'\n",
    "[mullen.guess_trick(path+f) for f in os.listdir(path)]"
   ]
  },
  {
   "cell_type": "code",
   "execution_count": 7,
   "metadata": {},
   "outputs": [
    {
     "name": "stdout",
     "output_type": "stream",
     "text": [
      "Saving saved model at cache/test/\n"
     ]
    }
   ],
   "source": [
    "mullen.save_session('cache/test/')"
   ]
  },
  {
   "cell_type": "code",
   "execution_count": 8,
   "metadata": {},
   "outputs": [],
   "source": [
    "del mullen"
   ]
  },
  {
   "cell_type": "code",
   "execution_count": 9,
   "metadata": {},
   "outputs": [],
   "source": [
    "mullen =Mullen((187,250,3))"
   ]
  },
  {
   "cell_type": "code",
   "execution_count": 10,
   "metadata": {},
   "outputs": [
    {
     "name": "stdout",
     "output_type": "stream",
     "text": [
      "Loading saved model at cache/test/\n",
      "{0: 'skate', 1: 'noskate'}\n"
     ]
    }
   ],
   "source": [
    "mullen.load_session('cache/test/')"
   ]
  },
  {
   "cell_type": "code",
   "execution_count": 11,
   "metadata": {},
   "outputs": [
    {
     "data": {
      "text/plain": [
       "['noskate', 'noskate', 'noskate']"
      ]
     },
     "execution_count": 11,
     "metadata": {},
     "output_type": "execute_result"
    }
   ],
   "source": [
    "path = '../test/skate/'\n",
    "[mullen.guess_trick(path+f) for f in os.listdir(path)]"
   ]
  },
  {
   "cell_type": "code",
   "execution_count": null,
   "metadata": {},
   "outputs": [],
   "source": []
  }
 ],
 "metadata": {
  "kernelspec": {
   "display_name": "Python 3",
   "language": "python",
   "name": "python3"
  },
  "language_info": {
   "codemirror_mode": {
    "name": "ipython",
    "version": 3
   },
   "file_extension": ".py",
   "mimetype": "text/x-python",
   "name": "python",
   "nbconvert_exporter": "python",
   "pygments_lexer": "ipython3",
   "version": "3.6.0"
  }
 },
 "nbformat": 4,
 "nbformat_minor": 2
}
