{
 "cells": [
  {
   "cell_type": "code",
   "execution_count": 1,
   "metadata": {},
   "outputs": [
    {
     "name": "stderr",
     "output_type": "stream",
     "text": [
      "Using TensorFlow backend.\n"
     ]
    }
   ],
   "source": [
    "import numpy as np\n",
    "from mullen.classifier import Mullen\n",
    "import os\n",
    "import glob"
   ]
  },
  {
   "cell_type": "code",
   "execution_count": 2,
   "metadata": {},
   "outputs": [],
   "source": [
    "mullen = Mullen((140,250,3))"
   ]
  },
  {
   "cell_type": "code",
   "execution_count": 3,
   "metadata": {},
   "outputs": [
    {
     "name": "stdout",
     "output_type": "stream",
     "text": [
      "Loading from data from cache/X_Y_classes.pkl\n",
      "Creating lstm with shape = (40, 3480) and 3 classes\n",
      "Train on 272 samples, validate on 135 samples\n",
      "Epoch 1/30\n",
      "272/272 [==============================] - 5s 17ms/step - loss: 1.0273 - acc: 0.6287 - val_loss: 1.5669 - val_acc: 0.0000e+00\n",
      "Epoch 2/30\n",
      "272/272 [==============================] - 3s 9ms/step - loss: 0.8481 - acc: 0.7574 - val_loss: 1.8574 - val_acc: 0.0000e+00\n",
      "Epoch 3/30\n",
      "272/272 [==============================] - 3s 9ms/step - loss: 0.6833 - acc: 0.7757 - val_loss: 1.9171 - val_acc: 0.0000e+00\n",
      "Epoch 4/30\n",
      "272/272 [==============================] - 3s 9ms/step - loss: 0.5452 - acc: 0.8125 - val_loss: 1.7619 - val_acc: 0.0000e+00\n",
      "Epoch 5/30\n",
      "272/272 [==============================] - 3s 10ms/step - loss: 0.4646 - acc: 0.8272 - val_loss: 1.2677 - val_acc: 0.0000e+00\n",
      "Epoch 6/30\n",
      "272/272 [==============================] - 3s 10ms/step - loss: 0.4147 - acc: 0.8346 - val_loss: 1.0956 - val_acc: 0.0000e+00\n",
      "Epoch 7/30\n",
      "272/272 [==============================] - 3s 9ms/step - loss: 0.2948 - acc: 0.8750 - val_loss: 0.9566 - val_acc: 0.1704\n",
      "Epoch 8/30\n",
      "272/272 [==============================] - 3s 9ms/step - loss: 0.3047 - acc: 0.9301 - val_loss: 1.0807 - val_acc: 0.4889\n",
      "Epoch 9/30\n",
      "272/272 [==============================] - 3s 10ms/step - loss: 0.2744 - acc: 0.9191 - val_loss: 1.6006 - val_acc: 0.4593\n",
      "Epoch 10/30\n",
      "272/272 [==============================] - 3s 9ms/step - loss: 0.2191 - acc: 0.9485 - val_loss: 0.6332 - val_acc: 0.9037\n",
      "Epoch 11/30\n",
      "272/272 [==============================] - 3s 9ms/step - loss: 0.1802 - acc: 0.9522 - val_loss: 0.8038 - val_acc: 0.8000\n",
      "Epoch 12/30\n",
      "272/272 [==============================] - 3s 9ms/step - loss: 0.1372 - acc: 0.9706 - val_loss: 0.5361 - val_acc: 0.9037\n",
      "Epoch 13/30\n",
      "272/272 [==============================] - 2s 9ms/step - loss: 0.1477 - acc: 0.9522 - val_loss: 0.5459 - val_acc: 0.8963\n",
      "Epoch 14/30\n",
      "272/272 [==============================] - 3s 9ms/step - loss: 0.2467 - acc: 0.9228 - val_loss: 0.9363 - val_acc: 0.7630\n",
      "Epoch 15/30\n",
      "272/272 [==============================] - 3s 9ms/step - loss: 0.2774 - acc: 0.9044 - val_loss: 0.2608 - val_acc: 0.9704\n",
      "Epoch 16/30\n",
      "272/272 [==============================] - 3s 10ms/step - loss: 0.1106 - acc: 0.9743 - val_loss: 0.8403 - val_acc: 0.7926\n",
      "Epoch 17/30\n",
      "272/272 [==============================] - 3s 10ms/step - loss: 0.2267 - acc: 0.9044 - val_loss: 0.5339 - val_acc: 0.9037\n",
      "Epoch 18/30\n",
      "272/272 [==============================] - 3s 10ms/step - loss: 0.1130 - acc: 0.9669 - val_loss: 0.4472 - val_acc: 0.9111\n",
      "Epoch 19/30\n",
      "272/272 [==============================] - 3s 9ms/step - loss: 0.1165 - acc: 0.9706 - val_loss: 1.0720 - val_acc: 0.7556\n",
      "Epoch 20/30\n",
      "272/272 [==============================] - 3s 9ms/step - loss: 0.1706 - acc: 0.9412 - val_loss: 0.6440 - val_acc: 0.8593\n",
      "Epoch 21/30\n",
      "272/272 [==============================] - 3s 9ms/step - loss: 0.1633 - acc: 0.9485 - val_loss: 0.5953 - val_acc: 0.8667\n",
      "Epoch 22/30\n",
      "272/272 [==============================] - 3s 9ms/step - loss: 0.1303 - acc: 0.9559 - val_loss: 0.1506 - val_acc: 0.9852\n",
      "Epoch 23/30\n",
      "272/272 [==============================] - 3s 9ms/step - loss: 0.1093 - acc: 0.9596 - val_loss: 1.2144 - val_acc: 0.7407\n",
      "Epoch 24/30\n",
      "272/272 [==============================] - 3s 9ms/step - loss: 0.1090 - acc: 0.9743 - val_loss: 0.8011 - val_acc: 0.8074\n",
      "Epoch 25/30\n",
      "272/272 [==============================] - 3s 9ms/step - loss: 0.0793 - acc: 0.9779 - val_loss: 0.5643 - val_acc: 0.9037\n",
      "Epoch 26/30\n",
      "272/272 [==============================] - 3s 9ms/step - loss: 0.0654 - acc: 0.9853 - val_loss: 0.5038 - val_acc: 0.9111\n",
      "Epoch 27/30\n",
      "272/272 [==============================] - 3s 10ms/step - loss: 0.0455 - acc: 0.9926 - val_loss: 0.4903 - val_acc: 0.9185\n",
      "Epoch 28/30\n",
      "272/272 [==============================] - 3s 9ms/step - loss: 0.0478 - acc: 0.9890 - val_loss: 0.3270 - val_acc: 0.9185\n",
      "Epoch 29/30\n",
      "272/272 [==============================] - 3s 10ms/step - loss: 0.0390 - acc: 0.9963 - val_loss: 0.2363 - val_acc: 0.9259\n",
      "Epoch 30/30\n",
      "272/272 [==============================] - 3s 9ms/step - loss: 0.0347 - acc: 0.9963 - val_loss: 0.2640 - val_acc: 0.9259\n",
      "CPU times: user 3min 50s, sys: 24.7 s, total: 4min 15s\n",
      "Wall time: 1min 23s\n"
     ]
    }
   ],
   "source": [
    "%time mullen.session('../data/', validation_split=.33, epochs=30, batch_size=60)"
   ]
  },
  {
   "cell_type": "markdown",
   "metadata": {},
   "source": [
    "### Test "
   ]
  },
  {
   "cell_type": "code",
   "execution_count": 4,
   "metadata": {},
   "outputs": [
    {
     "data": {
      "text/plain": [
       "{'../test/SkateBoarding/v_SkateBoarding_g07_c01.mp4': 'Drumming',\n",
       " '../test/SkateBoarding/v_SkateBoarding_g05_c01.mp4': 'Drumming',\n",
       " '../test/SkateBoarding/v_SkateBoarding_g05_c02.mp4': 'Drumming',\n",
       " '../test/SkateBoarding/v_SkateBoarding_g07_c02.mp4': 'Drumming',\n",
       " '../test/SkateBoarding/v_SkateBoarding_g03_c02.mp4': 'Drumming',\n",
       " '../test/SkateBoarding/v_SkateBoarding_g03_c03.mp4': 'Drumming',\n",
       " '../test/Surfing/v_Surfing_g14_c03.mp4': 'Drumming',\n",
       " '../test/Surfing/v_Surfing_g13_c04.mp4': 'Drumming',\n",
       " '../test/Surfing/v_Surfing_g14_c04.mp4': 'Drumming',\n",
       " '../test/Surfing/v_Surfing_g15_c03.mp4': 'Drumming',\n",
       " '../test/Surfing/v_Surfing_g13_c05.mp4': 'Drumming',\n",
       " '../test/Surfing/v_Surfing_g15_c04.mp4': 'Drumming',\n",
       " '../test/Drumming/v_Drumming_g05_c03.mp4': 'Drumming',\n",
       " '../test/Drumming/v_Drumming_g02_c05.mp4': 'Drumming',\n",
       " '../test/Drumming/v_Drumming_g05_c02.mp4': 'Drumming',\n",
       " '../test/Drumming/v_Drumming_g02_c06.mp4': 'Drumming',\n",
       " '../test/Drumming/v_Drumming_g04_c01.mp4': 'Drumming',\n",
       " '../test/Drumming/v_Drumming_g04_c02.mp4': 'Drumming'}"
      ]
     },
     "execution_count": 4,
     "metadata": {},
     "output_type": "execute_result"
    }
   ],
   "source": [
    "{f:mullen.guess_trick(f) for f in glob.iglob('../test/' + '**/*.*', recursive=True)}"
   ]
  },
  {
   "cell_type": "markdown",
   "metadata": {},
   "source": [
    "---"
   ]
  },
  {
   "cell_type": "code",
   "execution_count": 9,
   "metadata": {},
   "outputs": [
    {
     "name": "stdout",
     "output_type": "stream",
     "text": [
      "Model already exits!\n"
     ]
    }
   ],
   "source": [
    "mullen.save_session('cache/test/')"
   ]
  },
  {
   "cell_type": "code",
   "execution_count": 10,
   "metadata": {},
   "outputs": [],
   "source": [
    "del mullen"
   ]
  },
  {
   "cell_type": "code",
   "execution_count": 11,
   "metadata": {},
   "outputs": [],
   "source": [
    "mullen = Mullen((140,250,3))"
   ]
  },
  {
   "cell_type": "code",
   "execution_count": 12,
   "metadata": {},
   "outputs": [
    {
     "name": "stdout",
     "output_type": "stream",
     "text": [
      "Loading saved model at cache/test/\n",
      "{0: 'SkateBoarding', 1: 'Surfing', 2: 'Drumming'}\n"
     ]
    }
   ],
   "source": [
    "mullen.load_session('cache/test/')"
   ]
  },
  {
   "cell_type": "code",
   "execution_count": 13,
   "metadata": {},
   "outputs": [
    {
     "data": {
      "text/plain": [
       "{'../test/SkateBoarding/v_SkateBoarding_g07_c01.mp4': 'Drumming',\n",
       " '../test/SkateBoarding/v_SkateBoarding_g05_c01.mp4': 'SkateBoarding',\n",
       " '../test/SkateBoarding/v_SkateBoarding_g05_c02.mp4': 'SkateBoarding',\n",
       " '../test/SkateBoarding/v_SkateBoarding_g07_c02.mp4': 'Drumming',\n",
       " '../test/SkateBoarding/v_SkateBoarding_g03_c02.mp4': 'Drumming',\n",
       " '../test/SkateBoarding/v_SkateBoarding_g03_c03.mp4': 'Drumming',\n",
       " '../test/Surfing/v_Surfing_g14_c03.mp4': 'Drumming',\n",
       " '../test/Surfing/v_Surfing_g13_c04.mp4': 'Drumming',\n",
       " '../test/Surfing/v_Surfing_g14_c04.mp4': 'Drumming',\n",
       " '../test/Surfing/v_Surfing_g15_c03.mp4': 'Drumming',\n",
       " '../test/Surfing/v_Surfing_g13_c05.mp4': 'Drumming',\n",
       " '../test/Surfing/v_Surfing_g15_c04.mp4': 'Drumming',\n",
       " '../test/Drumming/v_Drumming_g05_c03.mp4': 'Drumming',\n",
       " '../test/Drumming/v_Drumming_g02_c05.mp4': 'Drumming',\n",
       " '../test/Drumming/v_Drumming_g05_c02.mp4': 'Drumming',\n",
       " '../test/Drumming/v_Drumming_g02_c06.mp4': 'Drumming',\n",
       " '../test/Drumming/v_Drumming_g04_c01.mp4': 'SkateBoarding',\n",
       " '../test/Drumming/v_Drumming_g04_c02.mp4': 'SkateBoarding'}"
      ]
     },
     "execution_count": 13,
     "metadata": {},
     "output_type": "execute_result"
    }
   ],
   "source": [
    "{f:mullen.guess_trick(f) for f in glob.iglob('../test/' + '**/*.*', recursive=True)}"
   ]
  },
  {
   "cell_type": "code",
   "execution_count": null,
   "metadata": {},
   "outputs": [],
   "source": []
  }
 ],
 "metadata": {
  "kernelspec": {
   "display_name": "Python 3",
   "language": "python",
   "name": "python3"
  },
  "language_info": {
   "codemirror_mode": {
    "name": "ipython",
    "version": 3
   },
   "file_extension": ".py",
   "mimetype": "text/x-python",
   "name": "python",
   "nbconvert_exporter": "python",
   "pygments_lexer": "ipython3",
   "version": "3.6.0"
  }
 },
 "nbformat": 4,
 "nbformat_minor": 2
}
