{
 "cells": [
  {
   "cell_type": "code",
   "execution_count": 1,
   "metadata": {},
   "outputs": [],
   "source": [
    "import mullen.generate_clips as gc"
   ]
  },
  {
   "cell_type": "code",
   "execution_count": 4,
   "metadata": {},
   "outputs": [],
   "source": [
    "# Build a dict named \"recipe\" with the /watch form yt as key \n",
    "\n",
    "# each cut will be interpreted like this:\n",
    "# ('trick name', 'start_time', 'end_time')\n",
    "\n",
    "# time steps are also tuples\n",
    "# (3,1) = minute 3 second 1\n",
    "# (3,10.4) = minute 3 second 10 milisecond 400\n",
    "\n",
    "\n",
    "# Example\n",
    "\n",
    "recipe = {\n",
    "    \"SrwFpK-MdTA\":[\n",
    "        ('ollie',(0,9),(0,11)),\n",
    "        ('ollie',(0,32.8),(0,34.5)),\n",
    "        ('ollie',(0,48),(0,51))\n",
    "    ],\n",
    "    \"orrofE9qJwM\":[\n",
    "        ('flip',(3,41.8),(3,44.4))\n",
    "    ]    \n",
    "}\n"
   ]
  },
  {
   "cell_type": "code",
   "execution_count": 5,
   "metadata": {},
   "outputs": [
    {
     "name": "stdout",
     "output_type": "stream",
     "text": [
      "Downloading orrofE9qJwM ...\n",
      "Done!\n",
      "temp/orrofE9qJwM.mp4\n",
      "Creating ../cuts/flip/orrofE9qJwM_0.mp4\n",
      "[MoviePy] >>>> Building video ../cuts/flip/orrofE9qJwM_0.mp4\n",
      "[MoviePy] Writing video ../cuts/flip/orrofE9qJwM_0.mp4\n"
     ]
    },
    {
     "name": "stderr",
     "output_type": "stream",
     "text": [
      "100%|██████████| 78/78 [00:00<00:00, 714.41it/s]"
     ]
    },
    {
     "name": "stdout",
     "output_type": "stream",
     "text": [
      "[MoviePy] Done.\n",
      "[MoviePy] >>>> Video ready: ../cuts/flip/orrofE9qJwM_0.mp4 \n",
      "\n"
     ]
    },
    {
     "name": "stderr",
     "output_type": "stream",
     "text": [
      "\n"
     ]
    }
   ],
   "source": [
    "gc.generate('../cuts/', recipe)"
   ]
  },
  {
   "cell_type": "code",
   "execution_count": null,
   "metadata": {},
   "outputs": [],
   "source": []
  },
  {
   "cell_type": "code",
   "execution_count": null,
   "metadata": {},
   "outputs": [],
   "source": []
  }
 ],
 "metadata": {
  "kernelspec": {
   "display_name": "Python 3",
   "language": "python",
   "name": "python3"
  },
  "language_info": {
   "codemirror_mode": {
    "name": "ipython",
    "version": 3
   },
   "file_extension": ".py",
   "mimetype": "text/x-python",
   "name": "python",
   "nbconvert_exporter": "python",
   "pygments_lexer": "ipython3",
   "version": "3.6.0"
  }
 },
 "nbformat": 4,
 "nbformat_minor": 2
}
