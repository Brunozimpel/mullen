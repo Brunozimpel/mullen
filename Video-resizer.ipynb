{
 "cells": [
  {
   "cell_type": "code",
   "execution_count": 1,
   "metadata": {},
   "outputs": [],
   "source": [
    "import moviepy.editor as mp"
   ]
  },
  {
   "cell_type": "code",
   "execution_count": 2,
   "metadata": {},
   "outputs": [
    {
     "name": "stdout",
     "output_type": "stream",
     "text": [
      "[MoviePy] >>>> Building video SkateBoarding/Resize/skate1.mp4\n",
      "[MoviePy] Writing video SkateBoarding/Resize/skate1.mp4\n"
     ]
    },
    {
     "name": "stderr",
     "output_type": "stream",
     "text": [
      " 99%|██████████████████████████████████████████████████████████████████████████████▎| 109/110 [00:00<00:00, 298.61it/s]\n"
     ]
    },
    {
     "name": "stdout",
     "output_type": "stream",
     "text": [
      "[MoviePy] Done.\n",
      "[MoviePy] >>>> Video ready: SkateBoarding/Resize/skate1.mp4 \n",
      "\n",
      "[MoviePy] >>>> Building video SkateBoarding/Resize/skate2.mp4\n",
      "[MoviePy] Writing video SkateBoarding/Resize/skate2.mp4\n"
     ]
    },
    {
     "name": "stderr",
     "output_type": "stream",
     "text": [
      " 99%|██████████████████████████████████████████████████████████████████████████████▍| 151/152 [00:00<00:00, 263.75it/s]\n"
     ]
    },
    {
     "name": "stdout",
     "output_type": "stream",
     "text": [
      "[MoviePy] Done.\n",
      "[MoviePy] >>>> Video ready: SkateBoarding/Resize/skate2.mp4 \n",
      "\n",
      "[MoviePy] >>>> Building video SkateBoarding/Resize/skate3.mp4\n",
      "[MoviePy] Writing video SkateBoarding/Resize/skate3.mp4\n"
     ]
    },
    {
     "name": "stderr",
     "output_type": "stream",
     "text": [
      " 99%|██████████████████████████████████████████████████████████████████████████████▍| 153/154 [00:00<00:00, 263.14it/s]\n"
     ]
    },
    {
     "name": "stdout",
     "output_type": "stream",
     "text": [
      "[MoviePy] Done.\n",
      "[MoviePy] >>>> Video ready: SkateBoarding/Resize/skate3.mp4 \n",
      "\n",
      "[MoviePy] >>>> Building video SkateBoarding/Resize/skate4.mp4\n",
      "[MoviePy] Writing video SkateBoarding/Resize/skate4.mp4\n"
     ]
    },
    {
     "name": "stderr",
     "output_type": "stream",
     "text": [
      " 99%|██████████████████████████████████████████████████████████████████████████████▍| 148/149 [00:00<00:00, 295.90it/s]\n"
     ]
    },
    {
     "name": "stdout",
     "output_type": "stream",
     "text": [
      "[MoviePy] Done.\n",
      "[MoviePy] >>>> Video ready: SkateBoarding/Resize/skate4.mp4 \n",
      "\n",
      "[MoviePy] >>>> Building video SkateBoarding/Resize/skate5.mp4\n",
      "[MoviePy] Writing video SkateBoarding/Resize/skate5.mp4\n"
     ]
    },
    {
     "name": "stderr",
     "output_type": "stream",
     "text": [
      " 99%|███████████████████████████████████████████████████████████████████████████████▉ | 77/78 [00:00<00:00, 307.60it/s]\n"
     ]
    },
    {
     "name": "stdout",
     "output_type": "stream",
     "text": [
      "[MoviePy] Done.\n",
      "[MoviePy] >>>> Video ready: SkateBoarding/Resize/skate5.mp4 \n",
      "\n",
      "[MoviePy] >>>> Building video SkateBoarding/Resize/skate6.mp4\n",
      "[MoviePy] Writing video SkateBoarding/Resize/skate6.mp4\n"
     ]
    },
    {
     "name": "stderr",
     "output_type": "stream",
     "text": [
      "100%|███████████████████████████████████████████████████████████████████████████████| 116/116 [00:00<00:00, 313.07it/s]\n"
     ]
    },
    {
     "name": "stdout",
     "output_type": "stream",
     "text": [
      "[MoviePy] Done.\n",
      "[MoviePy] >>>> Video ready: SkateBoarding/Resize/skate6.mp4 \n",
      "\n",
      "[MoviePy] >>>> Building video SkateBoarding/Resize/skate7.mp4\n",
      "[MoviePy] Writing video SkateBoarding/Resize/skate7.mp4\n"
     ]
    },
    {
     "name": "stderr",
     "output_type": "stream",
     "text": [
      " 99%|██████████████████████████████████████████████████████████████████████████████▎| 123/124 [00:00<00:00, 304.96it/s]\n"
     ]
    },
    {
     "name": "stdout",
     "output_type": "stream",
     "text": [
      "[MoviePy] Done.\n",
      "[MoviePy] >>>> Video ready: SkateBoarding/Resize/skate7.mp4 \n",
      "\n",
      "[MoviePy] >>>> Building video SkateBoarding/Resize/skate8.mp4\n",
      "[MoviePy] Writing video SkateBoarding/Resize/skate8.mp4\n"
     ]
    },
    {
     "name": "stderr",
     "output_type": "stream",
     "text": [
      " 99%|████████████████████████████████████████████████████████████████████████████████ | 91/92 [00:00<00:00, 302.13it/s]\n"
     ]
    },
    {
     "name": "stdout",
     "output_type": "stream",
     "text": [
      "[MoviePy] Done.\n",
      "[MoviePy] >>>> Video ready: SkateBoarding/Resize/skate8.mp4 \n",
      "\n",
      "[MoviePy] >>>> Building video SkateBoarding/Resize/skate9.mp4\n",
      "[MoviePy] Writing video SkateBoarding/Resize/skate9.mp4\n"
     ]
    },
    {
     "name": "stderr",
     "output_type": "stream",
     "text": [
      " 99%|██████████████████████████████████████████████████████████████████████████████▍| 152/153 [00:00<00:00, 287.01it/s]\n"
     ]
    },
    {
     "name": "stdout",
     "output_type": "stream",
     "text": [
      "[MoviePy] Done.\n",
      "[MoviePy] >>>> Video ready: SkateBoarding/Resize/skate9.mp4 \n",
      "\n",
      "[MoviePy] >>>> Building video SkateBoarding/Resize/skate10.mp4\n",
      "[MoviePy] Writing video SkateBoarding/Resize/skate10.mp4\n"
     ]
    },
    {
     "name": "stderr",
     "output_type": "stream",
     "text": [
      "100%|███████████████████████████████████████████████████████████████████████████████| 115/115 [00:00<00:00, 266.90it/s]\n"
     ]
    },
    {
     "name": "stdout",
     "output_type": "stream",
     "text": [
      "[MoviePy] Done.\n",
      "[MoviePy] >>>> Video ready: SkateBoarding/Resize/skate10.mp4 \n",
      "\n",
      "[MoviePy] >>>> Building video SkateBoarding/Resize/skate11.mp4\n",
      "[MoviePy] Writing video SkateBoarding/Resize/skate11.mp4\n"
     ]
    },
    {
     "name": "stderr",
     "output_type": "stream",
     "text": [
      " 99%|████████████████████████████████████████████████████████████████████████████████▏| 96/97 [00:00<00:00, 283.11it/s]\n"
     ]
    },
    {
     "name": "stdout",
     "output_type": "stream",
     "text": [
      "[MoviePy] Done.\n",
      "[MoviePy] >>>> Video ready: SkateBoarding/Resize/skate11.mp4 \n",
      "\n",
      "[MoviePy] >>>> Building video SkateBoarding/Resize/skate12.mp4\n",
      "[MoviePy] Writing video SkateBoarding/Resize/skate12.mp4\n"
     ]
    },
    {
     "name": "stderr",
     "output_type": "stream",
     "text": [
      "100%|███████████████████████████████████████████████████████████████████████████████| 115/115 [00:00<00:00, 291.75it/s]\n"
     ]
    },
    {
     "name": "stdout",
     "output_type": "stream",
     "text": [
      "[MoviePy] Done.\n",
      "[MoviePy] >>>> Video ready: SkateBoarding/Resize/skate12.mp4 \n",
      "\n",
      "[MoviePy] >>>> Building video SkateBoarding/Resize/skate13.mp4\n",
      "[MoviePy] Writing video SkateBoarding/Resize/skate13.mp4\n"
     ]
    },
    {
     "name": "stderr",
     "output_type": "stream",
     "text": [
      "100%|███████████████████████████████████████████████████████████████████████████████| 113/113 [00:00<00:00, 298.16it/s]\n"
     ]
    },
    {
     "name": "stdout",
     "output_type": "stream",
     "text": [
      "[MoviePy] Done.\n",
      "[MoviePy] >>>> Video ready: SkateBoarding/Resize/skate13.mp4 \n",
      "\n",
      "[MoviePy] >>>> Building video SkateBoarding/Resize/skate14.mp4\n",
      "[MoviePy] Writing video SkateBoarding/Resize/skate14.mp4\n"
     ]
    },
    {
     "name": "stderr",
     "output_type": "stream",
     "text": [
      " 99%|██████████████████████████████████████████████████████████████████████████████▌| 163/164 [00:00<00:00, 319.03it/s]\n"
     ]
    },
    {
     "name": "stdout",
     "output_type": "stream",
     "text": [
      "[MoviePy] Done.\n",
      "[MoviePy] >>>> Video ready: SkateBoarding/Resize/skate14.mp4 \n",
      "\n",
      "[MoviePy] >>>> Building video SkateBoarding/Resize/skate15.mp4\n",
      "[MoviePy] Writing video SkateBoarding/Resize/skate15.mp4\n"
     ]
    },
    {
     "name": "stderr",
     "output_type": "stream",
     "text": [
      "100%|██████████████████████████████████████████████████████████████████████████████▌| 208/209 [00:00<00:00, 310.81it/s]\n"
     ]
    },
    {
     "name": "stdout",
     "output_type": "stream",
     "text": [
      "[MoviePy] Done.\n",
      "[MoviePy] >>>> Video ready: SkateBoarding/Resize/skate15.mp4 \n",
      "\n",
      "[MoviePy] >>>> Building video SkateBoarding/Resize/skate16.mp4\n",
      "[MoviePy] Writing video SkateBoarding/Resize/skate16.mp4\n"
     ]
    },
    {
     "name": "stderr",
     "output_type": "stream",
     "text": [
      " 99%|██████████████████████████████████████████████████████████████████████████████▌| 171/172 [00:00<00:00, 294.58it/s]\n"
     ]
    },
    {
     "name": "stdout",
     "output_type": "stream",
     "text": [
      "[MoviePy] Done.\n",
      "[MoviePy] >>>> Video ready: SkateBoarding/Resize/skate16.mp4 \n",
      "\n",
      "[MoviePy] >>>> Building video SkateBoarding/Resize/skate17.mp4\n",
      "[MoviePy] Writing video SkateBoarding/Resize/skate17.mp4\n"
     ]
    },
    {
     "name": "stderr",
     "output_type": "stream",
     "text": [
      "100%|██████████████████████████████████████████████████████████████████████████████▋| 211/212 [00:00<00:00, 297.34it/s]\n"
     ]
    },
    {
     "name": "stdout",
     "output_type": "stream",
     "text": [
      "[MoviePy] Done.\n",
      "[MoviePy] >>>> Video ready: SkateBoarding/Resize/skate17.mp4 \n",
      "\n",
      "[MoviePy] >>>> Building video SkateBoarding/Resize/skate18.mp4\n",
      "[MoviePy] Writing video SkateBoarding/Resize/skate18.mp4\n"
     ]
    },
    {
     "name": "stderr",
     "output_type": "stream",
     "text": [
      " 99%|██████████████████████████████████████████████████████████████████████████████▌| 171/172 [00:00<00:00, 312.50it/s]\n"
     ]
    },
    {
     "name": "stdout",
     "output_type": "stream",
     "text": [
      "[MoviePy] Done.\n",
      "[MoviePy] >>>> Video ready: SkateBoarding/Resize/skate18.mp4 \n",
      "\n",
      "[MoviePy] >>>> Building video SkateBoarding/Resize/skate19.mp4\n",
      "[MoviePy] Writing video SkateBoarding/Resize/skate19.mp4\n"
     ]
    },
    {
     "name": "stderr",
     "output_type": "stream",
     "text": [
      " 99%|██████████████████████████████████████████████████████████████████████████████▍| 152/153 [00:00<00:00, 323.59it/s]\n"
     ]
    },
    {
     "name": "stdout",
     "output_type": "stream",
     "text": [
      "[MoviePy] Done.\n",
      "[MoviePy] >>>> Video ready: SkateBoarding/Resize/skate19.mp4 \n",
      "\n",
      "[MoviePy] >>>> Building video SkateBoarding/Resize/skate20.mp4\n",
      "[MoviePy] Writing video SkateBoarding/Resize/skate20.mp4\n"
     ]
    },
    {
     "name": "stderr",
     "output_type": "stream",
     "text": [
      " 99%|████████████████████████████████████████████████████████████████████████████████▏| 98/99 [00:00<00:00, 220.81it/s]\n"
     ]
    },
    {
     "name": "stdout",
     "output_type": "stream",
     "text": [
      "[MoviePy] Done.\n",
      "[MoviePy] >>>> Video ready: SkateBoarding/Resize/skate20.mp4 \n",
      "\n",
      "[MoviePy] >>>> Building video SkateBoarding/Resize/skate21.mp4\n",
      "[MoviePy] Writing video SkateBoarding/Resize/skate21.mp4\n"
     ]
    },
    {
     "name": "stderr",
     "output_type": "stream",
     "text": [
      " 99%|██████████████████████████████████████████████████████████████████████████████▎| 107/108 [00:00<00:00, 290.75it/s]\n"
     ]
    },
    {
     "name": "stdout",
     "output_type": "stream",
     "text": [
      "[MoviePy] Done.\n",
      "[MoviePy] >>>> Video ready: SkateBoarding/Resize/skate21.mp4 \n",
      "\n",
      "[MoviePy] >>>> Building video SkateBoarding/Resize/skate22.mp4\n",
      "[MoviePy] Writing video SkateBoarding/Resize/skate22.mp4\n"
     ]
    },
    {
     "name": "stderr",
     "output_type": "stream",
     "text": [
      "100%|███████████████████████████████████████████████████████████████████████████████| 112/112 [00:00<00:00, 299.53it/s]\n"
     ]
    },
    {
     "name": "stdout",
     "output_type": "stream",
     "text": [
      "[MoviePy] Done.\n",
      "[MoviePy] >>>> Video ready: SkateBoarding/Resize/skate22.mp4 \n",
      "\n",
      "[MoviePy] >>>> Building video SkateBoarding/Resize/skate23.mp4\n",
      "[MoviePy] Writing video SkateBoarding/Resize/skate23.mp4\n"
     ]
    },
    {
     "name": "stderr",
     "output_type": "stream",
     "text": [
      " 99%|██████████████████████████████████████████████████████████████████████████████▌| 190/191 [00:00<00:00, 289.55it/s]\n"
     ]
    },
    {
     "name": "stdout",
     "output_type": "stream",
     "text": [
      "[MoviePy] Done.\n",
      "[MoviePy] >>>> Video ready: SkateBoarding/Resize/skate23.mp4 \n",
      "\n",
      "[MoviePy] >>>> Building video SkateBoarding/Resize/skate24.mp4\n",
      "[MoviePy] Writing video SkateBoarding/Resize/skate24.mp4\n"
     ]
    },
    {
     "name": "stderr",
     "output_type": "stream",
     "text": [
      " 99%|████████████████████████████████████████████████████████████████████████████████▏| 94/95 [00:00<00:00, 341.00it/s]\n"
     ]
    },
    {
     "name": "stdout",
     "output_type": "stream",
     "text": [
      "[MoviePy] Done.\n",
      "[MoviePy] >>>> Video ready: SkateBoarding/Resize/skate24.mp4 \n",
      "\n",
      "[MoviePy] >>>> Building video SkateBoarding/Resize/skate25.mp4\n",
      "[MoviePy] Writing video SkateBoarding/Resize/skate25.mp4\n"
     ]
    },
    {
     "name": "stderr",
     "output_type": "stream",
     "text": [
      " 99%|████████████████████████████████████████████████████████████████████████████████ | 89/90 [00:00<00:00, 299.46it/s]\n"
     ]
    },
    {
     "name": "stdout",
     "output_type": "stream",
     "text": [
      "[MoviePy] Done.\n",
      "[MoviePy] >>>> Video ready: SkateBoarding/Resize/skate25.mp4 \n",
      "\n",
      "[MoviePy] >>>> Building video SkateBoarding/Resize/skate26.mp4\n",
      "[MoviePy] Writing video SkateBoarding/Resize/skate26.mp4\n"
     ]
    },
    {
     "name": "stderr",
     "output_type": "stream",
     "text": [
      " 99%|██████████████████████████████████████████████████████████████████████████████▍| 143/144 [00:00<00:00, 325.87it/s]\n"
     ]
    },
    {
     "name": "stdout",
     "output_type": "stream",
     "text": [
      "[MoviePy] Done.\n",
      "[MoviePy] >>>> Video ready: SkateBoarding/Resize/skate26.mp4 \n",
      "\n",
      "[MoviePy] >>>> Building video SkateBoarding/Resize/skate27.mp4\n",
      "[MoviePy] Writing video SkateBoarding/Resize/skate27.mp4\n"
     ]
    },
    {
     "name": "stderr",
     "output_type": "stream",
     "text": [
      " 99%|████████████████████████████████████████████████████████████████████████████████ | 86/87 [00:00<00:00, 293.30it/s]\n"
     ]
    },
    {
     "name": "stdout",
     "output_type": "stream",
     "text": [
      "[MoviePy] Done.\n",
      "[MoviePy] >>>> Video ready: SkateBoarding/Resize/skate27.mp4 \n",
      "\n",
      "[MoviePy] >>>> Building video SkateBoarding/Resize/skate28.mp4\n",
      "[MoviePy] Writing video SkateBoarding/Resize/skate28.mp4\n"
     ]
    },
    {
     "name": "stderr",
     "output_type": "stream",
     "text": [
      " 99%|██████████████████████████████████████████████████████████████████████████████▌| 166/167 [00:00<00:00, 322.58it/s]\n"
     ]
    },
    {
     "name": "stdout",
     "output_type": "stream",
     "text": [
      "[MoviePy] Done.\n",
      "[MoviePy] >>>> Video ready: SkateBoarding/Resize/skate28.mp4 \n",
      "\n",
      "[MoviePy] >>>> Building video SkateBoarding/Resize/skate29.mp4\n",
      "[MoviePy] Writing video SkateBoarding/Resize/skate29.mp4\n"
     ]
    },
    {
     "name": "stderr",
     "output_type": "stream",
     "text": [
      " 99%|██████████████████████████████████████████████████████████████████████████████▌| 181/182 [00:00<00:00, 303.49it/s]\n"
     ]
    },
    {
     "name": "stdout",
     "output_type": "stream",
     "text": [
      "[MoviePy] Done.\n",
      "[MoviePy] >>>> Video ready: SkateBoarding/Resize/skate29.mp4 \n",
      "\n",
      "[MoviePy] >>>> Building video SkateBoarding/Resize/skate30.mp4\n",
      "[MoviePy] Writing video SkateBoarding/Resize/skate30.mp4\n"
     ]
    },
    {
     "name": "stderr",
     "output_type": "stream",
     "text": [
      " 99%|██████████████████████████████████████████████████████████████████████████████▌| 165/166 [00:00<00:00, 261.98it/s]\n"
     ]
    },
    {
     "name": "stdout",
     "output_type": "stream",
     "text": [
      "[MoviePy] Done.\n",
      "[MoviePy] >>>> Video ready: SkateBoarding/Resize/skate30.mp4 \n",
      "\n",
      "[MoviePy] >>>> Building video SkateBoarding/Resize/skate31.mp4\n",
      "[MoviePy] Writing video SkateBoarding/Resize/skate31.mp4\n"
     ]
    },
    {
     "name": "stderr",
     "output_type": "stream",
     "text": [
      " 99%|██████████████████████████████████████████████████████████████████████████████▍| 141/142 [00:00<00:00, 276.13it/s]\n"
     ]
    },
    {
     "name": "stdout",
     "output_type": "stream",
     "text": [
      "[MoviePy] Done.\n",
      "[MoviePy] >>>> Video ready: SkateBoarding/Resize/skate31.mp4 \n",
      "\n",
      "[MoviePy] >>>> Building video SkateBoarding/Resize/skate32.mp4\n",
      "[MoviePy] Writing video SkateBoarding/Resize/skate32.mp4\n"
     ]
    },
    {
     "name": "stderr",
     "output_type": "stream",
     "text": [
      " 99%|████████████████████████████████████████████████████████████████████████████████ | 87/88 [00:00<00:00, 305.01it/s]\n"
     ]
    },
    {
     "name": "stdout",
     "output_type": "stream",
     "text": [
      "[MoviePy] Done.\n",
      "[MoviePy] >>>> Video ready: SkateBoarding/Resize/skate32.mp4 \n",
      "\n",
      "[MoviePy] >>>> Building video SkateBoarding/Resize/skate33.mp4\n",
      "[MoviePy] Writing video SkateBoarding/Resize/skate33.mp4\n"
     ]
    },
    {
     "name": "stderr",
     "output_type": "stream",
     "text": [
      " 99%|██████████████████████████████████████████████████████████████████████████████▌| 160/161 [00:00<00:00, 328.73it/s]\n"
     ]
    },
    {
     "name": "stdout",
     "output_type": "stream",
     "text": [
      "[MoviePy] Done.\n",
      "[MoviePy] >>>> Video ready: SkateBoarding/Resize/skate33.mp4 \n",
      "\n",
      "[MoviePy] >>>> Building video SkateBoarding/Resize/skate34.mp4\n",
      "[MoviePy] Writing video SkateBoarding/Resize/skate34.mp4\n"
     ]
    },
    {
     "name": "stderr",
     "output_type": "stream",
     "text": [
      " 99%|██████████████████████████████████████████████████████████████████████████████▏| 100/101 [00:00<00:00, 286.88it/s]\n"
     ]
    },
    {
     "name": "stdout",
     "output_type": "stream",
     "text": [
      "[MoviePy] Done.\n",
      "[MoviePy] >>>> Video ready: SkateBoarding/Resize/skate34.mp4 \n",
      "\n",
      "[MoviePy] >>>> Building video SkateBoarding/Resize/skate35.mp4\n",
      "[MoviePy] Writing video SkateBoarding/Resize/skate35.mp4\n"
     ]
    },
    {
     "name": "stderr",
     "output_type": "stream",
     "text": [
      " 99%|██████████████████████████████████████████████████████████████████████████████▏| 100/101 [00:00<00:00, 328.75it/s]\n"
     ]
    },
    {
     "name": "stdout",
     "output_type": "stream",
     "text": [
      "[MoviePy] Done.\n",
      "[MoviePy] >>>> Video ready: SkateBoarding/Resize/skate35.mp4 \n",
      "\n",
      "[MoviePy] >>>> Building video SkateBoarding/Resize/skate36.mp4\n",
      "[MoviePy] Writing video SkateBoarding/Resize/skate36.mp4\n"
     ]
    },
    {
     "name": "stderr",
     "output_type": "stream",
     "text": [
      " 99%|██████████████████████████████████████████████████████████████████████████████▏| 100/101 [00:00<00:00, 295.77it/s]\n"
     ]
    },
    {
     "name": "stdout",
     "output_type": "stream",
     "text": [
      "[MoviePy] Done.\n",
      "[MoviePy] >>>> Video ready: SkateBoarding/Resize/skate36.mp4 \n",
      "\n",
      "[MoviePy] >>>> Building video SkateBoarding/Resize/skate37.mp4\n",
      "[MoviePy] Writing video SkateBoarding/Resize/skate37.mp4\n"
     ]
    },
    {
     "name": "stderr",
     "output_type": "stream",
     "text": [
      " 99%|██████████████████████████████████████████████████████████████████████████████▍| 152/153 [00:00<00:00, 323.58it/s]\n"
     ]
    },
    {
     "name": "stdout",
     "output_type": "stream",
     "text": [
      "[MoviePy] Done.\n",
      "[MoviePy] >>>> Video ready: SkateBoarding/Resize/skate37.mp4 \n",
      "\n",
      "[MoviePy] >>>> Building video SkateBoarding/Resize/skate38.mp4\n",
      "[MoviePy] Writing video SkateBoarding/Resize/skate38.mp4\n"
     ]
    },
    {
     "name": "stderr",
     "output_type": "stream",
     "text": [
      " 99%|██████████████████████████████████████████████████████████████████████████████▌| 174/175 [00:00<00:00, 302.09it/s]\n"
     ]
    },
    {
     "name": "stdout",
     "output_type": "stream",
     "text": [
      "[MoviePy] Done.\n",
      "[MoviePy] >>>> Video ready: SkateBoarding/Resize/skate38.mp4 \n",
      "\n",
      "[MoviePy] >>>> Building video SkateBoarding/Resize/skate39.mp4\n",
      "[MoviePy] Writing video SkateBoarding/Resize/skate39.mp4\n"
     ]
    },
    {
     "name": "stderr",
     "output_type": "stream",
     "text": [
      " 99%|████████████████████████████████████████████████████████████████████████████████ | 88/89 [00:00<00:00, 300.61it/s]\n"
     ]
    },
    {
     "name": "stdout",
     "output_type": "stream",
     "text": [
      "[MoviePy] Done.\n",
      "[MoviePy] >>>> Video ready: SkateBoarding/Resize/skate39.mp4 \n",
      "\n",
      "[MoviePy] >>>> Building video SkateBoarding/Resize/skate40.mp4\n",
      "[MoviePy] Writing video SkateBoarding/Resize/skate40.mp4\n"
     ]
    },
    {
     "name": "stderr",
     "output_type": "stream",
     "text": [
      " 99%|██████████████████████████████████████████████████████████████████████████████▏| 101/102 [00:00<00:00, 280.91it/s]\n"
     ]
    },
    {
     "name": "stdout",
     "output_type": "stream",
     "text": [
      "[MoviePy] Done.\n",
      "[MoviePy] >>>> Video ready: SkateBoarding/Resize/skate40.mp4 \n",
      "\n",
      "[MoviePy] >>>> Building video SkateBoarding/Resize/skate41.mp4\n",
      "[MoviePy] Writing video SkateBoarding/Resize/skate41.mp4\n"
     ]
    },
    {
     "name": "stderr",
     "output_type": "stream",
     "text": [
      " 99%|██████████████████████████████████████████████████████████████████████████████▌| 196/197 [00:00<00:00, 294.32it/s]\n"
     ]
    },
    {
     "name": "stdout",
     "output_type": "stream",
     "text": [
      "[MoviePy] Done.\n",
      "[MoviePy] >>>> Video ready: SkateBoarding/Resize/skate41.mp4 \n",
      "\n",
      "[MoviePy] >>>> Building video SkateBoarding/Resize/skate42.mp4\n",
      "[MoviePy] Writing video SkateBoarding/Resize/skate42.mp4\n"
     ]
    },
    {
     "name": "stderr",
     "output_type": "stream",
     "text": [
      " 99%|████████████████████████████████████████████████████████████████████████████████▏| 98/99 [00:00<00:00, 313.91it/s]\n"
     ]
    },
    {
     "name": "stdout",
     "output_type": "stream",
     "text": [
      "[MoviePy] Done.\n",
      "[MoviePy] >>>> Video ready: SkateBoarding/Resize/skate42.mp4 \n",
      "\n",
      "[MoviePy] >>>> Building video SkateBoarding/Resize/skate43.mp4\n",
      "[MoviePy] Writing video SkateBoarding/Resize/skate43.mp4\n"
     ]
    },
    {
     "name": "stderr",
     "output_type": "stream",
     "text": [
      "100%|██████████████████████████████████████████████████████████████████████████████▌| 202/203 [00:00<00:00, 321.49it/s]\n"
     ]
    },
    {
     "name": "stdout",
     "output_type": "stream",
     "text": [
      "[MoviePy] Done.\n",
      "[MoviePy] >>>> Video ready: SkateBoarding/Resize/skate43.mp4 \n",
      "\n",
      "[MoviePy] >>>> Building video SkateBoarding/Resize/skate44.mp4\n",
      "[MoviePy] Writing video SkateBoarding/Resize/skate44.mp4\n"
     ]
    },
    {
     "name": "stderr",
     "output_type": "stream",
     "text": [
      " 99%|██████████████████████████████████████████████████████████████████████████████▌| 175/176 [00:00<00:00, 311.72it/s]\n"
     ]
    },
    {
     "name": "stdout",
     "output_type": "stream",
     "text": [
      "[MoviePy] Done.\n",
      "[MoviePy] >>>> Video ready: SkateBoarding/Resize/skate44.mp4 \n",
      "\n",
      "[MoviePy] >>>> Building video SkateBoarding/Resize/skate45.mp4\n",
      "[MoviePy] Writing video SkateBoarding/Resize/skate45.mp4\n"
     ]
    },
    {
     "name": "stderr",
     "output_type": "stream",
     "text": [
      "100%|███████████████████████████████████████████████████████████████████████████████| 113/113 [00:00<00:00, 316.49it/s]\n"
     ]
    },
    {
     "name": "stdout",
     "output_type": "stream",
     "text": [
      "[MoviePy] Done.\n",
      "[MoviePy] >>>> Video ready: SkateBoarding/Resize/skate45.mp4 \n",
      "\n",
      "[MoviePy] >>>> Building video SkateBoarding/Resize/skate46.mp4\n",
      "[MoviePy] Writing video SkateBoarding/Resize/skate46.mp4\n"
     ]
    },
    {
     "name": "stderr",
     "output_type": "stream",
     "text": [
      " 99%|██████████████████████████████████████████████████████████████████████████████▌| 168/169 [00:00<00:00, 297.09it/s]\n"
     ]
    },
    {
     "name": "stdout",
     "output_type": "stream",
     "text": [
      "[MoviePy] Done.\n",
      "[MoviePy] >>>> Video ready: SkateBoarding/Resize/skate46.mp4 \n",
      "\n",
      "[MoviePy] >>>> Building video SkateBoarding/Resize/skate47.mp4\n",
      "[MoviePy] Writing video SkateBoarding/Resize/skate47.mp4\n"
     ]
    },
    {
     "name": "stderr",
     "output_type": "stream",
     "text": [
      "100%|██████████████████████████████████████████████████████████████████████████████▊| 369/370 [00:01<00:00, 283.59it/s]\n"
     ]
    },
    {
     "name": "stdout",
     "output_type": "stream",
     "text": [
      "[MoviePy] Done.\n",
      "[MoviePy] >>>> Video ready: SkateBoarding/Resize/skate47.mp4 \n",
      "\n",
      "[MoviePy] >>>> Building video SkateBoarding/Resize/skate48.mp4\n",
      "[MoviePy] Writing video SkateBoarding/Resize/skate48.mp4\n"
     ]
    },
    {
     "name": "stderr",
     "output_type": "stream",
     "text": [
      " 99%|██████████████████████████████████████████████████████████████████████████████▍| 128/129 [00:00<00:00, 319.67it/s]\n"
     ]
    },
    {
     "name": "stdout",
     "output_type": "stream",
     "text": [
      "[MoviePy] Done.\n",
      "[MoviePy] >>>> Video ready: SkateBoarding/Resize/skate48.mp4 \n",
      "\n",
      "[MoviePy] >>>> Building video SkateBoarding/Resize/skate49.mp4\n",
      "[MoviePy] Writing video SkateBoarding/Resize/skate49.mp4\n"
     ]
    },
    {
     "name": "stderr",
     "output_type": "stream",
     "text": [
      "100%|███████████████████████████████████████████████████████████████████████████████| 112/112 [00:00<00:00, 310.25it/s]\n"
     ]
    },
    {
     "name": "stdout",
     "output_type": "stream",
     "text": [
      "[MoviePy] Done.\n",
      "[MoviePy] >>>> Video ready: SkateBoarding/Resize/skate49.mp4 \n",
      "\n",
      "[MoviePy] >>>> Building video SkateBoarding/Resize/skate50.mp4\n",
      "[MoviePy] Writing video SkateBoarding/Resize/skate50.mp4\n"
     ]
    },
    {
     "name": "stderr",
     "output_type": "stream",
     "text": [
      " 99%|███████████████████████████████████████████████████████████████████████████████▉ | 77/78 [00:00<00:00, 305.74it/s]\n"
     ]
    },
    {
     "name": "stdout",
     "output_type": "stream",
     "text": [
      "[MoviePy] Done.\n",
      "[MoviePy] >>>> Video ready: SkateBoarding/Resize/skate50.mp4 \n",
      "\n",
      "[MoviePy] >>>> Building video SkateBoarding/Resize/skate51.mp4\n",
      "[MoviePy] Writing video SkateBoarding/Resize/skate51.mp4\n"
     ]
    },
    {
     "name": "stderr",
     "output_type": "stream",
     "text": [
      "100%|███████████████████████████████████████████████████████████████████████████████| 113/113 [00:00<00:00, 293.53it/s]\n"
     ]
    },
    {
     "name": "stdout",
     "output_type": "stream",
     "text": [
      "[MoviePy] Done.\n",
      "[MoviePy] >>>> Video ready: SkateBoarding/Resize/skate51.mp4 \n",
      "\n",
      "[MoviePy] >>>> Building video SkateBoarding/Resize/skate52.mp4\n",
      "[MoviePy] Writing video SkateBoarding/Resize/skate52.mp4\n"
     ]
    },
    {
     "name": "stderr",
     "output_type": "stream",
     "text": [
      "100%|██████████████████████████████████████████████████████████████████████████████▋| 300/301 [00:00<00:00, 315.95it/s]\n"
     ]
    },
    {
     "name": "stdout",
     "output_type": "stream",
     "text": [
      "[MoviePy] Done.\n",
      "[MoviePy] >>>> Video ready: SkateBoarding/Resize/skate52.mp4 \n",
      "\n",
      "[MoviePy] >>>> Building video SkateBoarding/Resize/skate53.mp4\n",
      "[MoviePy] Writing video SkateBoarding/Resize/skate53.mp4\n"
     ]
    },
    {
     "name": "stderr",
     "output_type": "stream",
     "text": [
      " 99%|██████████████████████████████████████████████████████████████████████████████▍| 126/127 [00:00<00:00, 307.38it/s]\n"
     ]
    },
    {
     "name": "stdout",
     "output_type": "stream",
     "text": [
      "[MoviePy] Done.\n",
      "[MoviePy] >>>> Video ready: SkateBoarding/Resize/skate53.mp4 \n",
      "\n",
      "[MoviePy] >>>> Building video SkateBoarding/Resize/skate54.mp4\n",
      "[MoviePy] Writing video SkateBoarding/Resize/skate54.mp4\n"
     ]
    },
    {
     "name": "stderr",
     "output_type": "stream",
     "text": [
      " 99%|██████████████████████████████████████████████████████████████████████████████▍| 126/127 [00:00<00:00, 293.57it/s]\n"
     ]
    },
    {
     "name": "stdout",
     "output_type": "stream",
     "text": [
      "[MoviePy] Done.\n",
      "[MoviePy] >>>> Video ready: SkateBoarding/Resize/skate54.mp4 \n",
      "\n",
      "[MoviePy] >>>> Building video SkateBoarding/Resize/skate55.mp4\n",
      "[MoviePy] Writing video SkateBoarding/Resize/skate55.mp4\n"
     ]
    },
    {
     "name": "stderr",
     "output_type": "stream",
     "text": [
      " 99%|██████████████████████████████████████████████████████████████████████████████▍| 126/127 [00:00<00:00, 268.80it/s]\n"
     ]
    },
    {
     "name": "stdout",
     "output_type": "stream",
     "text": [
      "[MoviePy] Done.\n",
      "[MoviePy] >>>> Video ready: SkateBoarding/Resize/skate55.mp4 \n",
      "\n",
      "[MoviePy] >>>> Building video SkateBoarding/Resize/skate56.mp4\n",
      "[MoviePy] Writing video SkateBoarding/Resize/skate56.mp4\n"
     ]
    },
    {
     "name": "stderr",
     "output_type": "stream",
     "text": [
      " 99%|██████████████████████████████████████████████████████████████████████████████▍| 128/129 [00:00<00:00, 307.04it/s]\n"
     ]
    },
    {
     "name": "stdout",
     "output_type": "stream",
     "text": [
      "[MoviePy] Done.\n",
      "[MoviePy] >>>> Video ready: SkateBoarding/Resize/skate56.mp4 \n",
      "\n",
      "[MoviePy] >>>> Building video SkateBoarding/Resize/skate57.mp4\n",
      "[MoviePy] Writing video SkateBoarding/Resize/skate57.mp4\n"
     ]
    },
    {
     "name": "stderr",
     "output_type": "stream",
     "text": [
      " 99%|██████████████████████████████████████████████████████████████████████████████▎| 106/107 [00:00<00:00, 305.84it/s]\n"
     ]
    },
    {
     "name": "stdout",
     "output_type": "stream",
     "text": [
      "[MoviePy] Done.\n",
      "[MoviePy] >>>> Video ready: SkateBoarding/Resize/skate57.mp4 \n",
      "\n",
      "[MoviePy] >>>> Building video SkateBoarding/Resize/skate58.mp4\n",
      "[MoviePy] Writing video SkateBoarding/Resize/skate58.mp4\n"
     ]
    },
    {
     "name": "stderr",
     "output_type": "stream",
     "text": [
      " 99%|██████████████████████████████████████████████████████████████████████████████▍| 145/146 [00:00<00:00, 303.56it/s]\n"
     ]
    },
    {
     "name": "stdout",
     "output_type": "stream",
     "text": [
      "[MoviePy] Done.\n",
      "[MoviePy] >>>> Video ready: SkateBoarding/Resize/skate58.mp4 \n",
      "\n",
      "[MoviePy] >>>> Building video SkateBoarding/Resize/skate59.mp4\n",
      "[MoviePy] Writing video SkateBoarding/Resize/skate59.mp4\n"
     ]
    },
    {
     "name": "stderr",
     "output_type": "stream",
     "text": [
      " 99%|████████████████████████████████████████████████████████████████████████████████ | 91/92 [00:00<00:00, 303.10it/s]\n"
     ]
    },
    {
     "name": "stdout",
     "output_type": "stream",
     "text": [
      "[MoviePy] Done.\n",
      "[MoviePy] >>>> Video ready: SkateBoarding/Resize/skate59.mp4 \n",
      "\n",
      "[MoviePy] >>>> Building video SkateBoarding/Resize/skate60.mp4\n",
      "[MoviePy] Writing video SkateBoarding/Resize/skate60.mp4\n"
     ]
    },
    {
     "name": "stderr",
     "output_type": "stream",
     "text": [
      " 99%|██████████████████████████████████████████████████████████████████████████████▍| 135/136 [00:00<00:00, 299.47it/s]\n"
     ]
    },
    {
     "name": "stdout",
     "output_type": "stream",
     "text": [
      "[MoviePy] Done.\n",
      "[MoviePy] >>>> Video ready: SkateBoarding/Resize/skate60.mp4 \n",
      "\n",
      "[MoviePy] >>>> Building video SkateBoarding/Resize/skate61.mp4\n",
      "[MoviePy] Writing video SkateBoarding/Resize/skate61.mp4\n"
     ]
    },
    {
     "name": "stderr",
     "output_type": "stream",
     "text": [
      " 99%|██████████████████████████████████████████████████████████████████████████████▏| 103/104 [00:00<00:00, 295.07it/s]\n"
     ]
    },
    {
     "name": "stdout",
     "output_type": "stream",
     "text": [
      "[MoviePy] Done.\n",
      "[MoviePy] >>>> Video ready: SkateBoarding/Resize/skate61.mp4 \n",
      "\n",
      "[MoviePy] >>>> Building video SkateBoarding/Resize/skate62.mp4\n",
      "[MoviePy] Writing video SkateBoarding/Resize/skate62.mp4\n"
     ]
    },
    {
     "name": "stderr",
     "output_type": "stream",
     "text": [
      " 99%|██████████████████████████████████████████████████████████████████████████████▏| 104/105 [00:00<00:00, 304.46it/s]\n"
     ]
    },
    {
     "name": "stdout",
     "output_type": "stream",
     "text": [
      "[MoviePy] Done.\n",
      "[MoviePy] >>>> Video ready: SkateBoarding/Resize/skate62.mp4 \n",
      "\n",
      "[MoviePy] >>>> Building video SkateBoarding/Resize/skate63.mp4\n",
      "[MoviePy] Writing video SkateBoarding/Resize/skate63.mp4\n"
     ]
    },
    {
     "name": "stderr",
     "output_type": "stream",
     "text": [
      " 99%|██████████████████████████████████████████████████████████████████████████████▍| 129/130 [00:00<00:00, 298.72it/s]\n"
     ]
    },
    {
     "name": "stdout",
     "output_type": "stream",
     "text": [
      "[MoviePy] Done.\n",
      "[MoviePy] >>>> Video ready: SkateBoarding/Resize/skate63.mp4 \n",
      "\n",
      "[MoviePy] >>>> Building video SkateBoarding/Resize/skate64.mp4\n",
      "[MoviePy] Writing video SkateBoarding/Resize/skate64.mp4\n"
     ]
    },
    {
     "name": "stderr",
     "output_type": "stream",
     "text": [
      " 99%|██████████████████████████████████████████████████████████████████████████████▌| 160/161 [00:00<00:00, 299.76it/s]\n"
     ]
    },
    {
     "name": "stdout",
     "output_type": "stream",
     "text": [
      "[MoviePy] Done.\n",
      "[MoviePy] >>>> Video ready: SkateBoarding/Resize/skate64.mp4 \n",
      "\n",
      "[MoviePy] >>>> Building video SkateBoarding/Resize/skate65.mp4\n",
      "[MoviePy] Writing video SkateBoarding/Resize/skate65.mp4\n"
     ]
    },
    {
     "name": "stderr",
     "output_type": "stream",
     "text": [
      " 99%|██████████████████████████████████████████████████████████████████████████████▌| 185/186 [00:00<00:00, 272.83it/s]\n"
     ]
    },
    {
     "name": "stdout",
     "output_type": "stream",
     "text": [
      "[MoviePy] Done.\n",
      "[MoviePy] >>>> Video ready: SkateBoarding/Resize/skate65.mp4 \n",
      "\n",
      "[MoviePy] >>>> Building video SkateBoarding/Resize/skate66.mp4\n",
      "[MoviePy] Writing video SkateBoarding/Resize/skate66.mp4\n"
     ]
    },
    {
     "name": "stderr",
     "output_type": "stream",
     "text": [
      " 99%|██████████████████████████████████████████████████████████████████████████████▍| 150/151 [00:00<00:00, 267.84it/s]\n"
     ]
    },
    {
     "name": "stdout",
     "output_type": "stream",
     "text": [
      "[MoviePy] Done.\n",
      "[MoviePy] >>>> Video ready: SkateBoarding/Resize/skate66.mp4 \n",
      "\n",
      "[MoviePy] >>>> Building video SkateBoarding/Resize/skate67.mp4\n",
      "[MoviePy] Writing video SkateBoarding/Resize/skate67.mp4\n"
     ]
    },
    {
     "name": "stderr",
     "output_type": "stream",
     "text": [
      " 99%|██████████████████████████████████████████████████████████████████████████████▎| 123/124 [00:00<00:00, 293.64it/s]\n"
     ]
    },
    {
     "name": "stdout",
     "output_type": "stream",
     "text": [
      "[MoviePy] Done.\n",
      "[MoviePy] >>>> Video ready: SkateBoarding/Resize/skate67.mp4 \n",
      "\n",
      "[MoviePy] >>>> Building video SkateBoarding/Resize/skate68.mp4\n",
      "[MoviePy] Writing video SkateBoarding/Resize/skate68.mp4\n"
     ]
    },
    {
     "name": "stderr",
     "output_type": "stream",
     "text": [
      " 99%|██████████████████████████████████████████████████████████████████████████████▍| 150/151 [00:00<00:00, 282.95it/s]\n"
     ]
    },
    {
     "name": "stdout",
     "output_type": "stream",
     "text": [
      "[MoviePy] Done.\n",
      "[MoviePy] >>>> Video ready: SkateBoarding/Resize/skate68.mp4 \n",
      "\n",
      "[MoviePy] >>>> Building video SkateBoarding/Resize/skate69.mp4\n",
      "[MoviePy] Writing video SkateBoarding/Resize/skate69.mp4\n"
     ]
    },
    {
     "name": "stderr",
     "output_type": "stream",
     "text": [
      " 99%|██████████████████████████████████████████████████████████████████████████████▍| 146/147 [00:00<00:00, 281.78it/s]\n"
     ]
    },
    {
     "name": "stdout",
     "output_type": "stream",
     "text": [
      "[MoviePy] Done.\n",
      "[MoviePy] >>>> Video ready: SkateBoarding/Resize/skate69.mp4 \n",
      "\n",
      "[MoviePy] >>>> Building video SkateBoarding/Resize/skate70.mp4\n",
      "[MoviePy] Writing video SkateBoarding/Resize/skate70.mp4\n"
     ]
    },
    {
     "name": "stderr",
     "output_type": "stream",
     "text": [
      "100%|██████████████████████████████████████████████████████████████████████████████▌| 199/200 [00:00<00:00, 288.55it/s]\n"
     ]
    },
    {
     "name": "stdout",
     "output_type": "stream",
     "text": [
      "[MoviePy] Done.\n",
      "[MoviePy] >>>> Video ready: SkateBoarding/Resize/skate70.mp4 \n",
      "\n",
      "[MoviePy] >>>> Building video SkateBoarding/Resize/skate71.mp4\n",
      "[MoviePy] Writing video SkateBoarding/Resize/skate71.mp4\n"
     ]
    },
    {
     "name": "stderr",
     "output_type": "stream",
     "text": [
      " 99%|██████████████████████████████████████████████████████████████████████████████▌| 185/186 [00:00<00:00, 301.13it/s]\n"
     ]
    },
    {
     "name": "stdout",
     "output_type": "stream",
     "text": [
      "[MoviePy] Done.\n",
      "[MoviePy] >>>> Video ready: SkateBoarding/Resize/skate71.mp4 \n",
      "\n",
      "[MoviePy] >>>> Building video SkateBoarding/Resize/skate72.mp4\n",
      "[MoviePy] Writing video SkateBoarding/Resize/skate72.mp4\n"
     ]
    },
    {
     "name": "stderr",
     "output_type": "stream",
     "text": [
      " 99%|██████████████████████████████████████████████████████████████████████████████▌| 172/173 [00:00<00:00, 289.09it/s]\n"
     ]
    },
    {
     "name": "stdout",
     "output_type": "stream",
     "text": [
      "[MoviePy] Done.\n",
      "[MoviePy] >>>> Video ready: SkateBoarding/Resize/skate72.mp4 \n",
      "\n",
      "[MoviePy] >>>> Building video SkateBoarding/Resize/skate73.mp4\n",
      "[MoviePy] Writing video SkateBoarding/Resize/skate73.mp4\n"
     ]
    },
    {
     "name": "stderr",
     "output_type": "stream",
     "text": [
      " 99%|██████████████████████████████████████████████████████████████████████████████▍| 149/150 [00:00<00:00, 298.80it/s]\n"
     ]
    },
    {
     "name": "stdout",
     "output_type": "stream",
     "text": [
      "[MoviePy] Done.\n",
      "[MoviePy] >>>> Video ready: SkateBoarding/Resize/skate73.mp4 \n",
      "\n",
      "[MoviePy] >>>> Building video SkateBoarding/Resize/skate74.mp4\n",
      "[MoviePy] Writing video SkateBoarding/Resize/skate74.mp4\n"
     ]
    },
    {
     "name": "stderr",
     "output_type": "stream",
     "text": [
      " 99%|██████████████████████████████████████████████████████████████████████████████▍| 137/138 [00:00<00:00, 285.27it/s]\n"
     ]
    },
    {
     "name": "stdout",
     "output_type": "stream",
     "text": [
      "[MoviePy] Done.\n",
      "[MoviePy] >>>> Video ready: SkateBoarding/Resize/skate74.mp4 \n",
      "\n",
      "[MoviePy] >>>> Building video SkateBoarding/Resize/skate75.mp4\n",
      "[MoviePy] Writing video SkateBoarding/Resize/skate75.mp4\n"
     ]
    },
    {
     "name": "stderr",
     "output_type": "stream",
     "text": [
      " 99%|████████████████████████████████████████████████████████████████████████████████ | 88/89 [00:00<00:00, 286.93it/s]\n"
     ]
    },
    {
     "name": "stdout",
     "output_type": "stream",
     "text": [
      "[MoviePy] Done.\n",
      "[MoviePy] >>>> Video ready: SkateBoarding/Resize/skate75.mp4 \n",
      "\n",
      "[MoviePy] >>>> Building video SkateBoarding/Resize/skate76.mp4\n",
      "[MoviePy] Writing video SkateBoarding/Resize/skate76.mp4\n"
     ]
    },
    {
     "name": "stderr",
     "output_type": "stream",
     "text": [
      " 99%|████████████████████████████████████████████████████████████████████████████████ | 88/89 [00:00<00:00, 282.81it/s]\n"
     ]
    },
    {
     "name": "stdout",
     "output_type": "stream",
     "text": [
      "[MoviePy] Done.\n",
      "[MoviePy] >>>> Video ready: SkateBoarding/Resize/skate76.mp4 \n",
      "\n",
      "[MoviePy] >>>> Building video SkateBoarding/Resize/skate77.mp4\n",
      "[MoviePy] Writing video SkateBoarding/Resize/skate77.mp4\n"
     ]
    },
    {
     "name": "stderr",
     "output_type": "stream",
     "text": [
      " 99%|██████████████████████████████████████████████████████████████████████████████▎| 108/109 [00:00<00:00, 341.14it/s]\n"
     ]
    },
    {
     "name": "stdout",
     "output_type": "stream",
     "text": [
      "[MoviePy] Done.\n",
      "[MoviePy] >>>> Video ready: SkateBoarding/Resize/skate77.mp4 \n",
      "\n",
      "[MoviePy] >>>> Building video SkateBoarding/Resize/skate78.mp4\n",
      "[MoviePy] Writing video SkateBoarding/Resize/skate78.mp4\n"
     ]
    },
    {
     "name": "stderr",
     "output_type": "stream",
     "text": [
      " 99%|██████████████████████████████████████████████████████████████████████████████▍| 140/141 [00:00<00:00, 297.14it/s]\n"
     ]
    },
    {
     "name": "stdout",
     "output_type": "stream",
     "text": [
      "[MoviePy] Done.\n",
      "[MoviePy] >>>> Video ready: SkateBoarding/Resize/skate78.mp4 \n",
      "\n",
      "[MoviePy] >>>> Building video SkateBoarding/Resize/skate79.mp4\n",
      "[MoviePy] Writing video SkateBoarding/Resize/skate79.mp4\n"
     ]
    },
    {
     "name": "stderr",
     "output_type": "stream",
     "text": [
      " 99%|██████████████████████████████████████████████████████████████████████████████▌| 186/187 [00:00<00:00, 292.31it/s]\n"
     ]
    },
    {
     "name": "stdout",
     "output_type": "stream",
     "text": [
      "[MoviePy] Done.\n",
      "[MoviePy] >>>> Video ready: SkateBoarding/Resize/skate79.mp4 \n",
      "\n",
      "[MoviePy] >>>> Building video SkateBoarding/Resize/skate80.mp4\n",
      "[MoviePy] Writing video SkateBoarding/Resize/skate80.mp4\n"
     ]
    },
    {
     "name": "stderr",
     "output_type": "stream",
     "text": [
      " 99%|████████████████████████████████████████████████████████████████████████████████ | 91/92 [00:00<00:00, 281.46it/s]\n"
     ]
    },
    {
     "name": "stdout",
     "output_type": "stream",
     "text": [
      "[MoviePy] Done.\n",
      "[MoviePy] >>>> Video ready: SkateBoarding/Resize/skate80.mp4 \n",
      "\n",
      "[MoviePy] >>>> Building video SkateBoarding/Resize/skate81.mp4\n",
      "[MoviePy] Writing video SkateBoarding/Resize/skate81.mp4\n"
     ]
    },
    {
     "name": "stderr",
     "output_type": "stream",
     "text": [
      "100%|███████████████████████████████████████████████████████████████████████████████| 115/115 [00:00<00:00, 277.18it/s]\n"
     ]
    },
    {
     "name": "stdout",
     "output_type": "stream",
     "text": [
      "[MoviePy] Done.\n",
      "[MoviePy] >>>> Video ready: SkateBoarding/Resize/skate81.mp4 \n",
      "\n",
      "[MoviePy] >>>> Building video SkateBoarding/Resize/skate82.mp4\n",
      "[MoviePy] Writing video SkateBoarding/Resize/skate82.mp4\n"
     ]
    },
    {
     "name": "stderr",
     "output_type": "stream",
     "text": [
      " 99%|██████████████████████████████████████████████████████████████████████████████▍| 145/146 [00:00<00:00, 309.22it/s]\n"
     ]
    },
    {
     "name": "stdout",
     "output_type": "stream",
     "text": [
      "[MoviePy] Done.\n",
      "[MoviePy] >>>> Video ready: SkateBoarding/Resize/skate82.mp4 \n",
      "\n",
      "[MoviePy] >>>> Building video SkateBoarding/Resize/skate83.mp4\n",
      "[MoviePy] Writing video SkateBoarding/Resize/skate83.mp4\n"
     ]
    },
    {
     "name": "stderr",
     "output_type": "stream",
     "text": [
      " 99%|████████████████████████████████████████████████████████████████████████████████▏| 95/96 [00:00<00:00, 302.83it/s]\n"
     ]
    },
    {
     "name": "stdout",
     "output_type": "stream",
     "text": [
      "[MoviePy] Done.\n",
      "[MoviePy] >>>> Video ready: SkateBoarding/Resize/skate83.mp4 \n",
      "\n",
      "[MoviePy] >>>> Building video SkateBoarding/Resize/skate84.mp4\n",
      "[MoviePy] Writing video SkateBoarding/Resize/skate84.mp4\n"
     ]
    },
    {
     "name": "stderr",
     "output_type": "stream",
     "text": [
      " 98%|███████████████████████████████████████████████████████████████████████████████▋ | 59/60 [00:00<00:00, 303.38it/s]\n"
     ]
    },
    {
     "name": "stdout",
     "output_type": "stream",
     "text": [
      "[MoviePy] Done.\n",
      "[MoviePy] >>>> Video ready: SkateBoarding/Resize/skate84.mp4 \n",
      "\n",
      "[MoviePy] >>>> Building video SkateBoarding/Resize/skate85.mp4\n",
      "[MoviePy] Writing video SkateBoarding/Resize/skate85.mp4\n"
     ]
    },
    {
     "name": "stderr",
     "output_type": "stream",
     "text": [
      "100%|███████████████████████████████████████████████████████████████████████████████| 115/115 [00:00<00:00, 276.50it/s]\n"
     ]
    },
    {
     "name": "stdout",
     "output_type": "stream",
     "text": [
      "[MoviePy] Done.\n",
      "[MoviePy] >>>> Video ready: SkateBoarding/Resize/skate85.mp4 \n",
      "\n",
      "[MoviePy] >>>> Building video SkateBoarding/Resize/skate86.mp4\n",
      "[MoviePy] Writing video SkateBoarding/Resize/skate86.mp4\n"
     ]
    },
    {
     "name": "stderr",
     "output_type": "stream",
     "text": [
      " 99%|███████████████████████████████████████████████████████████████████████████████▏| 99/100 [00:00<00:00, 285.90it/s]\n"
     ]
    },
    {
     "name": "stdout",
     "output_type": "stream",
     "text": [
      "[MoviePy] Done.\n",
      "[MoviePy] >>>> Video ready: SkateBoarding/Resize/skate86.mp4 \n",
      "\n",
      "[MoviePy] >>>> Building video SkateBoarding/Resize/skate87.mp4\n",
      "[MoviePy] Writing video SkateBoarding/Resize/skate87.mp4\n"
     ]
    },
    {
     "name": "stderr",
     "output_type": "stream",
     "text": [
      " 99%|██████████████████████████████████████████████████████████████████████████████▍| 132/133 [00:00<00:00, 278.05it/s]\n"
     ]
    },
    {
     "name": "stdout",
     "output_type": "stream",
     "text": [
      "[MoviePy] Done.\n",
      "[MoviePy] >>>> Video ready: SkateBoarding/Resize/skate87.mp4 \n",
      "\n",
      "[MoviePy] >>>> Building video SkateBoarding/Resize/skate88.mp4\n",
      "[MoviePy] Writing video SkateBoarding/Resize/skate88.mp4\n"
     ]
    },
    {
     "name": "stderr",
     "output_type": "stream",
     "text": [
      " 99%|██████████████████████████████████████████████████████████████████████████████▍| 126/127 [00:00<00:00, 257.04it/s]\n"
     ]
    },
    {
     "name": "stdout",
     "output_type": "stream",
     "text": [
      "[MoviePy] Done.\n",
      "[MoviePy] >>>> Video ready: SkateBoarding/Resize/skate88.mp4 \n",
      "\n",
      "[MoviePy] >>>> Building video SkateBoarding/Resize/skate89.mp4\n",
      "[MoviePy] Writing video SkateBoarding/Resize/skate89.mp4\n"
     ]
    },
    {
     "name": "stderr",
     "output_type": "stream",
     "text": [
      " 99%|██████████████████████████████████████████████████████████████████████████████▌| 165/166 [00:00<00:00, 291.00it/s]\n"
     ]
    },
    {
     "name": "stdout",
     "output_type": "stream",
     "text": [
      "[MoviePy] Done.\n",
      "[MoviePy] >>>> Video ready: SkateBoarding/Resize/skate89.mp4 \n",
      "\n",
      "[MoviePy] >>>> Building video SkateBoarding/Resize/skate90.mp4\n",
      "[MoviePy] Writing video SkateBoarding/Resize/skate90.mp4\n"
     ]
    },
    {
     "name": "stderr",
     "output_type": "stream",
     "text": [
      " 99%|██████████████████████████████████████████████████████████████████████████████▎| 124/125 [00:00<00:00, 268.53it/s]\n"
     ]
    },
    {
     "name": "stdout",
     "output_type": "stream",
     "text": [
      "[MoviePy] Done.\n",
      "[MoviePy] >>>> Video ready: SkateBoarding/Resize/skate90.mp4 \n",
      "\n",
      "[MoviePy] >>>> Building video SkateBoarding/Resize/skate91.mp4\n",
      "[MoviePy] Writing video SkateBoarding/Resize/skate91.mp4\n"
     ]
    },
    {
     "name": "stderr",
     "output_type": "stream",
     "text": [
      " 99%|████████████████████████████████████████████████████████████████████████████████▏| 94/95 [00:00<00:00, 260.64it/s]\n"
     ]
    },
    {
     "name": "stdout",
     "output_type": "stream",
     "text": [
      "[MoviePy] Done.\n",
      "[MoviePy] >>>> Video ready: SkateBoarding/Resize/skate91.mp4 \n",
      "\n",
      "[MoviePy] >>>> Building video SkateBoarding/Resize/skate92.mp4\n",
      "[MoviePy] Writing video SkateBoarding/Resize/skate92.mp4\n"
     ]
    },
    {
     "name": "stderr",
     "output_type": "stream",
     "text": [
      " 99%|██████████████████████████████████████████████████████████████████████████████▌| 164/165 [00:00<00:00, 280.62it/s]\n"
     ]
    },
    {
     "name": "stdout",
     "output_type": "stream",
     "text": [
      "[MoviePy] Done.\n",
      "[MoviePy] >>>> Video ready: SkateBoarding/Resize/skate92.mp4 \n",
      "\n",
      "[MoviePy] >>>> Building video SkateBoarding/Resize/skate93.mp4\n",
      "[MoviePy] Writing video SkateBoarding/Resize/skate93.mp4\n"
     ]
    },
    {
     "name": "stderr",
     "output_type": "stream",
     "text": [
      "100%|██████████████████████████████████████████████████████████████████████████████▋| 223/224 [00:00<00:00, 332.83it/s]\n"
     ]
    },
    {
     "name": "stdout",
     "output_type": "stream",
     "text": [
      "[MoviePy] Done.\n",
      "[MoviePy] >>>> Video ready: SkateBoarding/Resize/skate93.mp4 \n",
      "\n",
      "[MoviePy] >>>> Building video SkateBoarding/Resize/skate94.mp4\n",
      "[MoviePy] Writing video SkateBoarding/Resize/skate94.mp4\n"
     ]
    },
    {
     "name": "stderr",
     "output_type": "stream",
     "text": [
      " 99%|██████████████████████████████████████████████████████████████████████████████▍| 128/129 [00:00<00:00, 297.78it/s]\n"
     ]
    },
    {
     "name": "stdout",
     "output_type": "stream",
     "text": [
      "[MoviePy] Done.\n",
      "[MoviePy] >>>> Video ready: SkateBoarding/Resize/skate94.mp4 \n",
      "\n",
      "[MoviePy] >>>> Building video SkateBoarding/Resize/skate95.mp4\n",
      "[MoviePy] Writing video SkateBoarding/Resize/skate95.mp4\n"
     ]
    },
    {
     "name": "stderr",
     "output_type": "stream",
     "text": [
      " 99%|████████████████████████████████████████████████████████████████████████████████ | 82/83 [00:00<00:00, 265.23it/s]\n"
     ]
    },
    {
     "name": "stdout",
     "output_type": "stream",
     "text": [
      "[MoviePy] Done.\n",
      "[MoviePy] >>>> Video ready: SkateBoarding/Resize/skate95.mp4 \n",
      "\n",
      "[MoviePy] >>>> Building video SkateBoarding/Resize/skate96.mp4\n",
      "[MoviePy] Writing video SkateBoarding/Resize/skate96.mp4\n"
     ]
    },
    {
     "name": "stderr",
     "output_type": "stream",
     "text": [
      " 99%|██████████████████████████████████████████████████████████████████████████████▌| 167/168 [00:00<00:00, 281.42it/s]\n"
     ]
    },
    {
     "name": "stdout",
     "output_type": "stream",
     "text": [
      "[MoviePy] Done.\n",
      "[MoviePy] >>>> Video ready: SkateBoarding/Resize/skate96.mp4 \n",
      "\n",
      "[MoviePy] >>>> Building video SkateBoarding/Resize/skate97.mp4\n",
      "[MoviePy] Writing video SkateBoarding/Resize/skate97.mp4\n"
     ]
    },
    {
     "name": "stderr",
     "output_type": "stream",
     "text": [
      " 99%|██████████████████████████████████████████████████████████████████████████████▌| 167/168 [00:00<00:00, 293.76it/s]\n"
     ]
    },
    {
     "name": "stdout",
     "output_type": "stream",
     "text": [
      "[MoviePy] Done.\n",
      "[MoviePy] >>>> Video ready: SkateBoarding/Resize/skate97.mp4 \n",
      "\n",
      "[MoviePy] >>>> Building video SkateBoarding/Resize/skate98.mp4\n",
      "[MoviePy] Writing video SkateBoarding/Resize/skate98.mp4\n"
     ]
    },
    {
     "name": "stderr",
     "output_type": "stream",
     "text": [
      " 99%|██████████████████████████████████████████████████████████████████████████████▍| 129/130 [00:00<00:00, 307.23it/s]\n"
     ]
    },
    {
     "name": "stdout",
     "output_type": "stream",
     "text": [
      "[MoviePy] Done.\n",
      "[MoviePy] >>>> Video ready: SkateBoarding/Resize/skate98.mp4 \n",
      "\n",
      "[MoviePy] >>>> Building video SkateBoarding/Resize/skate99.mp4\n",
      "[MoviePy] Writing video SkateBoarding/Resize/skate99.mp4\n"
     ]
    },
    {
     "name": "stderr",
     "output_type": "stream",
     "text": [
      " 99%|██████████████████████████████████████████████████████████████████████████████▏| 100/101 [00:00<00:00, 299.03it/s]\n"
     ]
    },
    {
     "name": "stdout",
     "output_type": "stream",
     "text": [
      "[MoviePy] Done.\n",
      "[MoviePy] >>>> Video ready: SkateBoarding/Resize/skate99.mp4 \n",
      "\n",
      "[MoviePy] >>>> Building video SkateBoarding/Resize/skate100.mp4\n",
      "[MoviePy] Writing video SkateBoarding/Resize/skate100.mp4\n"
     ]
    },
    {
     "name": "stderr",
     "output_type": "stream",
     "text": [
      "100%|███████████████████████████████████████████████████████████████████████████████| 112/112 [00:00<00:00, 260.56it/s]\n"
     ]
    },
    {
     "name": "stdout",
     "output_type": "stream",
     "text": [
      "[MoviePy] Done.\n",
      "[MoviePy] >>>> Video ready: SkateBoarding/Resize/skate100.mp4 \n",
      "\n",
      "[MoviePy] >>>> Building video SkateBoarding/Resize/skate101.mp4\n",
      "[MoviePy] Writing video SkateBoarding/Resize/skate101.mp4\n"
     ]
    },
    {
     "name": "stderr",
     "output_type": "stream",
     "text": [
      " 99%|██████████████████████████████████████████████████████████████████████████████▍| 126/127 [00:00<00:00, 335.07it/s]\n"
     ]
    },
    {
     "name": "stdout",
     "output_type": "stream",
     "text": [
      "[MoviePy] Done.\n",
      "[MoviePy] >>>> Video ready: SkateBoarding/Resize/skate101.mp4 \n",
      "\n",
      "[MoviePy] >>>> Building video SkateBoarding/Resize/skate102.mp4\n",
      "[MoviePy] Writing video SkateBoarding/Resize/skate102.mp4\n"
     ]
    },
    {
     "name": "stderr",
     "output_type": "stream",
     "text": [
      " 99%|████████████████████████████████████████████████████████████████████████████████▏| 93/94 [00:00<00:00, 259.89it/s]\n"
     ]
    },
    {
     "name": "stdout",
     "output_type": "stream",
     "text": [
      "[MoviePy] Done.\n",
      "[MoviePy] >>>> Video ready: SkateBoarding/Resize/skate102.mp4 \n",
      "\n",
      "[MoviePy] >>>> Building video SkateBoarding/Resize/skate103.mp4\n",
      "[MoviePy] Writing video SkateBoarding/Resize/skate103.mp4\n"
     ]
    },
    {
     "name": "stderr",
     "output_type": "stream",
     "text": [
      " 99%|██████████████████████████████████████████████████████████████████████████████▌| 190/191 [00:00<00:00, 291.30it/s]\n"
     ]
    },
    {
     "name": "stdout",
     "output_type": "stream",
     "text": [
      "[MoviePy] Done.\n",
      "[MoviePy] >>>> Video ready: SkateBoarding/Resize/skate103.mp4 \n",
      "\n",
      "[MoviePy] >>>> Building video SkateBoarding/Resize/skate104.mp4\n",
      "[MoviePy] Writing video SkateBoarding/Resize/skate104.mp4\n"
     ]
    },
    {
     "name": "stderr",
     "output_type": "stream",
     "text": [
      "100%|██████████████████████████████████████████████████████████████████████████████▊| 357/358 [00:01<00:00, 306.14it/s]\n"
     ]
    },
    {
     "name": "stdout",
     "output_type": "stream",
     "text": [
      "[MoviePy] Done.\n",
      "[MoviePy] >>>> Video ready: SkateBoarding/Resize/skate104.mp4 \n",
      "\n",
      "[MoviePy] >>>> Building video SkateBoarding/Resize/skate105.mp4\n",
      "[MoviePy] Writing video SkateBoarding/Resize/skate105.mp4\n"
     ]
    },
    {
     "name": "stderr",
     "output_type": "stream",
     "text": [
      " 99%|██████████████████████████████████████████████████████████████████████████████▎| 117/118 [00:00<00:00, 301.15it/s]\n"
     ]
    },
    {
     "name": "stdout",
     "output_type": "stream",
     "text": [
      "[MoviePy] Done.\n",
      "[MoviePy] >>>> Video ready: SkateBoarding/Resize/skate105.mp4 \n",
      "\n",
      "[MoviePy] >>>> Building video SkateBoarding/Resize/skate106.mp4\n",
      "[MoviePy] Writing video SkateBoarding/Resize/skate106.mp4\n"
     ]
    },
    {
     "name": "stderr",
     "output_type": "stream",
     "text": [
      "100%|███████████████████████████████████████████████████████████████████████████████| 113/113 [00:00<00:00, 287.57it/s]\n"
     ]
    },
    {
     "name": "stdout",
     "output_type": "stream",
     "text": [
      "[MoviePy] Done.\n",
      "[MoviePy] >>>> Video ready: SkateBoarding/Resize/skate106.mp4 \n",
      "\n",
      "[MoviePy] >>>> Building video SkateBoarding/Resize/skate107.mp4\n",
      "[MoviePy] Writing video SkateBoarding/Resize/skate107.mp4\n"
     ]
    },
    {
     "name": "stderr",
     "output_type": "stream",
     "text": [
      " 99%|██████████████████████████████████████████████████████████████████████████████▎| 106/107 [00:00<00:00, 268.35it/s]\n"
     ]
    },
    {
     "name": "stdout",
     "output_type": "stream",
     "text": [
      "[MoviePy] Done.\n",
      "[MoviePy] >>>> Video ready: SkateBoarding/Resize/skate107.mp4 \n",
      "\n",
      "[MoviePy] >>>> Building video SkateBoarding/Resize/skate108.mp4\n",
      "[MoviePy] Writing video SkateBoarding/Resize/skate108.mp4\n"
     ]
    },
    {
     "name": "stderr",
     "output_type": "stream",
     "text": [
      " 99%|██████████████████████████████████████████████████████████████████████████████▍| 130/131 [00:00<00:00, 287.74it/s]\n"
     ]
    },
    {
     "name": "stdout",
     "output_type": "stream",
     "text": [
      "[MoviePy] Done.\n",
      "[MoviePy] >>>> Video ready: SkateBoarding/Resize/skate108.mp4 \n",
      "\n",
      "[MoviePy] >>>> Building video SkateBoarding/Resize/skate109.mp4\n",
      "[MoviePy] Writing video SkateBoarding/Resize/skate109.mp4\n"
     ]
    },
    {
     "name": "stderr",
     "output_type": "stream",
     "text": [
      " 99%|████████████████████████████████████████████████████████████████████████████████ | 84/85 [00:00<00:00, 331.59it/s]\n"
     ]
    },
    {
     "name": "stdout",
     "output_type": "stream",
     "text": [
      "[MoviePy] Done.\n",
      "[MoviePy] >>>> Video ready: SkateBoarding/Resize/skate109.mp4 \n",
      "\n",
      "[MoviePy] >>>> Building video SkateBoarding/Resize/skate110.mp4\n",
      "[MoviePy] Writing video SkateBoarding/Resize/skate110.mp4\n"
     ]
    },
    {
     "name": "stderr",
     "output_type": "stream",
     "text": [
      " 99%|██████████████████████████████████████████████████████████████████████████████▍| 126/127 [00:00<00:00, 310.22it/s]\n"
     ]
    },
    {
     "name": "stdout",
     "output_type": "stream",
     "text": [
      "[MoviePy] Done.\n",
      "[MoviePy] >>>> Video ready: SkateBoarding/Resize/skate110.mp4 \n",
      "\n",
      "[MoviePy] >>>> Building video SkateBoarding/Resize/skate111.mp4\n",
      "[MoviePy] Writing video SkateBoarding/Resize/skate111.mp4\n"
     ]
    },
    {
     "name": "stderr",
     "output_type": "stream",
     "text": [
      " 99%|████████████████████████████████████████████████████████████████████████████████▏| 96/97 [00:00<00:00, 324.10it/s]\n"
     ]
    },
    {
     "name": "stdout",
     "output_type": "stream",
     "text": [
      "[MoviePy] Done.\n",
      "[MoviePy] >>>> Video ready: SkateBoarding/Resize/skate111.mp4 \n",
      "\n",
      "[MoviePy] >>>> Building video SkateBoarding/Resize/skate112.mp4\n",
      "[MoviePy] Writing video SkateBoarding/Resize/skate112.mp4\n"
     ]
    },
    {
     "name": "stderr",
     "output_type": "stream",
     "text": [
      " 99%|██████████████████████████████████████████████████████████████████████████████▍| 131/132 [00:00<00:00, 297.17it/s]\n"
     ]
    },
    {
     "name": "stdout",
     "output_type": "stream",
     "text": [
      "[MoviePy] Done.\n",
      "[MoviePy] >>>> Video ready: SkateBoarding/Resize/skate112.mp4 \n",
      "\n",
      "[MoviePy] >>>> Building video SkateBoarding/Resize/skate113.mp4\n",
      "[MoviePy] Writing video SkateBoarding/Resize/skate113.mp4\n"
     ]
    },
    {
     "name": "stderr",
     "output_type": "stream",
     "text": [
      " 99%|██████████████████████████████████████████████████████████████████████████████▎| 122/123 [00:00<00:00, 316.11it/s]\n"
     ]
    },
    {
     "name": "stdout",
     "output_type": "stream",
     "text": [
      "[MoviePy] Done.\n",
      "[MoviePy] >>>> Video ready: SkateBoarding/Resize/skate113.mp4 \n",
      "\n",
      "[MoviePy] >>>> Building video SkateBoarding/Resize/skate114.mp4\n",
      "[MoviePy] Writing video SkateBoarding/Resize/skate114.mp4\n"
     ]
    },
    {
     "name": "stderr",
     "output_type": "stream",
     "text": [
      "100%|██████████████████████████████████████████████████████████████████████████████▌| 200/201 [00:00<00:00, 314.64it/s]\n"
     ]
    },
    {
     "name": "stdout",
     "output_type": "stream",
     "text": [
      "[MoviePy] Done.\n",
      "[MoviePy] >>>> Video ready: SkateBoarding/Resize/skate114.mp4 \n",
      "\n",
      "[MoviePy] >>>> Building video SkateBoarding/Resize/skate115.mp4\n",
      "[MoviePy] Writing video SkateBoarding/Resize/skate115.mp4\n"
     ]
    },
    {
     "name": "stderr",
     "output_type": "stream",
     "text": [
      "100%|██████████████████████████████████████████████████████████████████████████████▌| 200/201 [00:00<00:00, 308.74it/s]\n"
     ]
    },
    {
     "name": "stdout",
     "output_type": "stream",
     "text": [
      "[MoviePy] Done.\n",
      "[MoviePy] >>>> Video ready: SkateBoarding/Resize/skate115.mp4 \n",
      "\n",
      "[MoviePy] >>>> Building video SkateBoarding/Resize/skate116.mp4\n",
      "[MoviePy] Writing video SkateBoarding/Resize/skate116.mp4\n"
     ]
    },
    {
     "name": "stderr",
     "output_type": "stream",
     "text": [
      " 99%|██████████████████████████████████████████████████████████████████████████████▍| 141/142 [00:00<00:00, 271.48it/s]\n"
     ]
    },
    {
     "name": "stdout",
     "output_type": "stream",
     "text": [
      "[MoviePy] Done.\n",
      "[MoviePy] >>>> Video ready: SkateBoarding/Resize/skate116.mp4 \n",
      "\n",
      "[MoviePy] >>>> Building video SkateBoarding/Resize/skate117.mp4\n",
      "[MoviePy] Writing video SkateBoarding/Resize/skate117.mp4\n"
     ]
    },
    {
     "name": "stderr",
     "output_type": "stream",
     "text": [
      " 99%|██████████████████████████████████████████████████████████████████████████████▍| 126/127 [00:00<00:00, 283.90it/s]\n"
     ]
    },
    {
     "name": "stdout",
     "output_type": "stream",
     "text": [
      "[MoviePy] Done.\n",
      "[MoviePy] >>>> Video ready: SkateBoarding/Resize/skate117.mp4 \n",
      "\n",
      "[MoviePy] >>>> Building video SkateBoarding/Resize/skate118.mp4\n",
      "[MoviePy] Writing video SkateBoarding/Resize/skate118.mp4\n"
     ]
    },
    {
     "name": "stderr",
     "output_type": "stream",
     "text": [
      " 99%|██████████████████████████████████████████████████████████████████████████████▍| 156/157 [00:00<00:00, 254.14it/s]\n"
     ]
    },
    {
     "name": "stdout",
     "output_type": "stream",
     "text": [
      "[MoviePy] Done.\n",
      "[MoviePy] >>>> Video ready: SkateBoarding/Resize/skate118.mp4 \n",
      "\n",
      "[MoviePy] >>>> Building video SkateBoarding/Resize/skate119.mp4\n",
      "[MoviePy] Writing video SkateBoarding/Resize/skate119.mp4\n"
     ]
    },
    {
     "name": "stderr",
     "output_type": "stream",
     "text": [
      " 99%|██████████████████████████████████████████████████████████████████████████████▏| 104/105 [00:00<00:00, 294.57it/s]\n"
     ]
    },
    {
     "name": "stdout",
     "output_type": "stream",
     "text": [
      "[MoviePy] Done.\n",
      "[MoviePy] >>>> Video ready: SkateBoarding/Resize/skate119.mp4 \n",
      "\n",
      "[MoviePy] >>>> Building video SkateBoarding/Resize/skate120.mp4\n",
      "[MoviePy] Writing video SkateBoarding/Resize/skate120.mp4\n"
     ]
    },
    {
     "name": "stderr",
     "output_type": "stream",
     "text": [
      " 99%|██████████████████████████████████████████████████████████████████████████████▍| 140/141 [00:00<00:00, 263.20it/s]\n"
     ]
    },
    {
     "name": "stdout",
     "output_type": "stream",
     "text": [
      "[MoviePy] Done.\n",
      "[MoviePy] >>>> Video ready: SkateBoarding/Resize/skate120.mp4 \n",
      "\n"
     ]
    }
   ],
   "source": [
    "for i in range (1,121):\n",
    "    clip = mp.VideoFileClip(\"SkateBoarding/skate\"+str(i)+\".avi\",audio=False)\n",
    "    clip_resized = clip.resize(width=250) \n",
    "    #clip_resized = clip.resize((140,250))\n",
    "    clip_resized.write_videofile(\"SkateBoarding/Resize/skate\"+str(i)+\".mp4\")#,codec='png')"
   ]
  },
  {
   "cell_type": "code",
   "execution_count": null,
   "metadata": {},
   "outputs": [],
   "source": [
    "clip = mp.VideoFileClip(\"No-Kickflips/NoFlipSample06.mp4\")\n",
    "#clip_resized = clip.resize(width=250) \n",
    "clip_resized = clip.resize((140,250))\n",
    "clip_resized.write_videofile(\"SkateBoarding/Resize/skate\"+str(i)+\".mp4\")#,codec='png')"
   ]
  }
 ],
 "metadata": {
  "kernelspec": {
   "display_name": "Python 3",
   "language": "python",
   "name": "python3"
  },
  "language_info": {
   "codemirror_mode": {
    "name": "ipython",
    "version": 3
   },
   "file_extension": ".py",
   "mimetype": "text/x-python",
   "name": "python",
   "nbconvert_exporter": "python",
   "pygments_lexer": "ipython3",
   "version": "3.6.5"
  }
 },
 "nbformat": 4,
 "nbformat_minor": 2
}
